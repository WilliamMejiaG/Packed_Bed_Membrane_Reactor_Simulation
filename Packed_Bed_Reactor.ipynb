{
  "nbformat": 4,
  "nbformat_minor": 0,
  "metadata": {
    "colab": {
      "name": "PBR_NORMAL.ipynb",
      "provenance": [],
      "collapsed_sections": [],
      "authorship_tag": "ABX9TyNCSCsITeUauamwJPX/bd7J",
      "include_colab_link": true
    },
    "kernelspec": {
      "name": "python3",
      "display_name": "Python 3"
    }
  },
  "cells": [
    {
      "cell_type": "markdown",
      "metadata": {
        "id": "view-in-github",
        "colab_type": "text"
      },
      "source": [
        "<a href=\"https://colab.research.google.com/github/WilliamMejiaG/Packed_Bed_Membrane_Reactor_Simulation/blob/main/Packed_Bed_Reactor.ipynb\" target=\"_parent\"><img src=\"https://colab.research.google.com/assets/colab-badge.svg\" alt=\"Open In Colab\"/></a>"
      ]
    },
    {
      "cell_type": "code",
      "metadata": {
        "id": "dzKjUAfdJ9sG"
      },
      "source": [
        "import numpy as np\n",
        "from scipy.integrate import odeint\n",
        "import matplotlib.pyplot as plt\n",
        "from scipy import optimize\n",
        "import pandas as pd"
      ],
      "execution_count": null,
      "outputs": []
    },
    {
      "cell_type": "code",
      "metadata": {
        "id": "jHrg0Q7ckZr2"
      },
      "source": [
        ""
      ],
      "execution_count": null,
      "outputs": []
    },
    {
      "cell_type": "code",
      "metadata": {
        "id": "MXS0zW_yV6NH"
      },
      "source": [
        "def F_PBR(VF,D_i,D_o,D_shell,FACT,rho_B,i,j,k,l,m):\n",
        "    ####################################################################\n",
        "    #Inlet molar fluxes\n",
        "    R=8.314472 #J/mol K\n",
        "    Ar = (np.pi*(D_i**2))/4 #m2\n",
        "    Dm = (D_o-D_i)/np.log(D_o/D_i)\n",
        "    Pm = np.pi*Dm\n",
        "    #VSweep = l*VF\n",
        "    VCO2_0 = VF/(m+1)\n",
        "    VH2_0 = m*VCO2_0\n",
        "    nH2_0 = VH2_0/(22400*60) #V in cm3 STP/min\n",
        "    nCO2_0 = VCO2_0/(22400*60) #V in cm3 STP/min\n",
        "    #nSweep = VSweep/(22400*60) #V in cm3 STP/min\n",
        "    T = j+273\n",
        "    \n",
        "    \"\"\"\n",
        "    PACKED BED MEMBRANE REACTOR MODEL\n",
        "    \"\"\"\n",
        "    # ODE definition\n",
        "    def F(y,X):\n",
        "        F = np.zeros(5)\n",
        "        \"\"\"\n",
        "        RETENTATE SIDE\n",
        "        \"\"\"\n",
        "        #Molar fluxes retentate\n",
        "    \n",
        "        n_H2r = y[0] \n",
        "        n_CO2r = y[1] \n",
        "        n_MeOHr = y[2]\n",
        "        n_COr = y[3]\n",
        "        n_Wr = y[4]\n",
        "   \n",
        "        n_Tr = n_H2r+n_CO2r+n_MeOHr+n_COr+n_Wr\n",
        "    \n",
        "        TERM = (i/(n_Tr)) \n",
        "    \n",
        "        pH2 = TERM*n_H2r\n",
        "        pCO2 = TERM*n_CO2r\n",
        "        pMeOH = TERM*n_MeOHr\n",
        "        pCO = TERM*n_COr\n",
        "        pW = TERM*n_Wr\n",
        "        \n",
        "        \"\"\"\n",
        "        PERMEATE SIDE\n",
        "        \n",
        "        \n",
        "        Perm_W = 0 #mol/ m2 s bar\n",
        "        Perm_MeOH =  0 #mol/ m2 s bar\n",
        "        Perm_H2 = 0 #mol/ m2 s bar\n",
        "        Perm_CO2 = 0\n",
        "        Perm_CO = 0\n",
        "        \n",
        "        #Molar fluxes permeate\n",
        "\n",
        "        n_H2p = y[5] \n",
        "        n_CO2p = y[6] \n",
        "        n_MeOHp = y[7]\n",
        "        n_COp = y[8]\n",
        "        n_Wp = y[9]\n",
        "        n_swp = y[10]\n",
        "        n_Tp = n_H2p+n_CO2p+n_MeOHp+n_COp+n_Wp+n_swp\n",
        "    \n",
        "        Pp = FACT*i#bar\n",
        "    \n",
        "        #Molar fractions Permeate\n",
        "        y_H2p = n_H2p/n_Tp\n",
        "        y_CO2p = n_CO2p/n_Tp\n",
        "        y_MeOHp = n_MeOHp/n_Tp\n",
        "        y_COp = n_COp/n_Tp\n",
        "        y_Wp = n_Wp/n_Tp\n",
        "   \n",
        "    \n",
        "        #Partial pressures permeate\n",
        "\n",
        "        pH2_p = y_H2p*Pp #bar\n",
        "        pCO2_p = y_CO2p*Pp #bar\n",
        "        pMeOH_p = y_MeOHp*Pp  #bar\n",
        "        pCO_p = y_COp*Pp #bar\n",
        "        pW_p = y_Wp*Pp  #bar\n",
        "        \"\"\"\n",
        "        \"\"\"\n",
        "        KINETICS\n",
        "        \"\"\"\n",
        "        #Equilibrium constants\n",
        "        K1 = 10**((3066/T)-10.592)\n",
        "        K3 = 10**((-2073.00/T)+2.029)\n",
        "        #Parameters\n",
        "    \n",
        "        A = 1.07*np.exp(36696.00/(R*T)) #N0 mol/ kg cat s bar^2, Q J/mol\n",
        "        C = 1.22e10*np.exp(-94765.00/(R*T)) # N0 mol/ kg cat s bar, Q J/mol\n",
        "        D = 3453.38\n",
        "        E = 0.499*np.exp(17197.00/(R*T)) # N0 bar^-0.5, Q J/mol\n",
        "        N = 6.62e-11*np.exp(124119.00/(R*T)) # N0 bar^-1, Q J/mol\n",
        "    \n",
        "        #Reaction Equations\n",
        "        B = 1 + D*(pW/pH2) + E*np.sqrt(pH2) + N*pW\n",
        "        r1 = (A*pCO2*pH2*(1-((pW*pMeOH)/(K1*(pH2**3)*pCO2))))/(B**3)\n",
        "        r3 = (C*pCO2*(1-((pW*pCO)/(K3*pH2*pCO2))))/B\n",
        "    \n",
        "        \"\"\"\n",
        "        Differential equations retentate\n",
        "        \"\"\"\n",
        "        F[0] = Ar*(-3*r1-r3)*(rho_B)\n",
        "        F[1] = Ar*(-r1-r3)*(rho_B)\n",
        "        F[2] = Ar*(r1)*(rho_B)\n",
        "        F[3] = (r3)*Ar*(rho_B)\n",
        "        F[4] = (r1+r3)*Ar*(rho_B)\n",
        "    \n",
        "        \"\"\"\n",
        "        \n",
        "        Differential equations permeate co-current mode\n",
        "        \n",
        "        F[5] = Pm*Perm_H2*(pH2-pH2_p)\n",
        "        F[6] = Pm*Perm_CO2*(pCO2-pCO2_p)\n",
        "        F[7] = Pm*Perm_MeOH*(pMeOH-pMeOH_p)\n",
        "        F[8] = Pm*Perm_CO*(pCO-pCO_p)\n",
        "        F[9] = Pm*Perm_W*(pW-pW_p)\n",
        "        F[10] = 0\n",
        "        \"\"\"\n",
        "        return F\n",
        "    # Initial conditions\n",
        "    \n",
        "    y = np.array([nH2_0,nCO2_0,0.00,0.00,0.00])\n",
        "    \n",
        "    xStart = 0.0\n",
        "    h = 1.0e-5\n",
        "    X = np.arange(xStart,k,h,dtype=float)\n",
        "    Y = odeint(F,y,X)\n",
        "    \n",
        "    #FOR FROMENT CO-CURRENT FUNCTION\n",
        "    n_H2r = Y[:,0]\n",
        "    n_CO2r = Y[:,1]\n",
        "    n_MeOHr = Y[:,2]\n",
        "    n_COr = Y[:,3]\n",
        "    n_Wr = Y[:,4]\n",
        "    \"\"\"\n",
        "    n_H2p = Y[:,5]\n",
        "    n_CO2p = Y[:,6]\n",
        "    n_MeOHp = Y[:,7]\n",
        "    n_COp = Y[:,8]\n",
        "    n_Wp = Y[:,9]\n",
        "    n_swp = Y[:,10]\n",
        "    \"\"\"\n",
        "    n_Tr = n_H2r+n_CO2r+n_MeOHr+n_COr+n_Wr\n",
        "    \n",
        "    #n_Tp = n_H2p+n_CO2p+n_MeOHp+n_COp+n_Wp+n_swp\n",
        "    \n",
        "    pH2r = (n_H2r/n_Tr)*i\n",
        "    pCO2r = (n_CO2r/n_Tr)*i\n",
        "    pMeOHr = (n_MeOHr/n_Tr)*i\n",
        "    pCOr = (n_COr/n_Tr)*i\n",
        "    pWr = (n_Wr/n_Tr)*i\n",
        "    \n",
        "    \"\"\"\n",
        "    pH2p = (n_H2p/n_Tp)*i\n",
        "    pCO2p = (n_CO2p/n_Tp)*i\n",
        "    pMeOHp = (n_MeOHp/n_Tp)*i\n",
        "    pCOp = (n_COp/n_Tp)*i\n",
        "    pWp = (n_Wp/n_Tp)*i\n",
        "    pswp = (n_swp/n_Tp)*i\n",
        "    \"\"\"\n",
        "              \n",
        "    #Graphic for conversion\n",
        "        \n",
        "    X_CO2 = ((nCO2_0-n_CO2r)/nCO2_0)*100      \n",
        "    S_MeOH = ((n_MeOHr)/(nCO2_0-n_CO2r))*100\n",
        "    Y_MeOH = (X_CO2*S_MeOH)/100\n",
        "    \n",
        "    \n",
        "    \n",
        "    \n",
        "    FROMENT = \"FROMENT\"\n",
        "    PACKED_BED_REACTOR = \"PACKED_BED_REACTOR\"\n",
        "         \n",
        "    return X,X_CO2,S_MeOH,Y_MeOH,n_H2r,n_CO2r,n_MeOHr,n_COr,n_Wr,pH2r,pCO2r,pMeOHr,pCOr,pWr,PACKED_BED_REACTOR,FROMENT"
      ],
      "execution_count": null,
      "outputs": []
    },
    {
      "cell_type": "code",
      "metadata": {
        "id": "-VfsHySPK4M2"
      },
      "source": [
        "i = 10\n",
        "j = 250\n",
        "k = 0.10\n",
        "VF = 250\n",
        "l = 0\n",
        "m = 3\n",
        "D_i = 0.0067 #m\n",
        "D_o = 0.01 #m\n",
        "D_shell = 0.02#m\n",
        "FACT = 1\n",
        "rho_B= 1142 #kg cat/m3 lecho\n"
      ],
      "execution_count": null,
      "outputs": []
    },
    {
      "cell_type": "code",
      "metadata": {
        "id": "QsK9v5f9ks5s",
        "outputId": "93d59236-4d8b-48d2-dc38-211faafa4f95",
        "colab": {
          "base_uri": "https://localhost:8080/",
          "height": 36
        }
      },
      "source": [
        "X,X_CO2,S_MeOH,Y_MeOH,n_H2r,n_CO2r,n_MeOHr,n_COr,n_Wr,pH2r,pCO2r,pMeOHr,pCOr,pWr,PACKED_BED_REACTOR,FROMENT= F_PBR(VF,D_i,D_o,D_shell,FACT,rho_B,i,j,k,l,m)\n"
      ],
      "execution_count": null,
      "outputs": [
        {
          "output_type": "stream",
          "text": [
            "/usr/local/lib/python3.6/dist-packages/ipykernel_launcher.py:166: RuntimeWarning: invalid value encountered in true_divide\n"
          ],
          "name": "stderr"
        }
      ]
    },
    {
      "cell_type": "code",
      "metadata": {
        "id": "HGfyqukzz0mL",
        "outputId": "e8f6d171-9b0f-4eb5-881b-c4ed632e63f7",
        "colab": {
          "base_uri": "https://localhost:8080/",
          "height": 444
        }
      },
      "source": [
        "data = np.array([X,X_CO2,S_MeOH,Y_MeOH,n_H2r,n_CO2r,n_MeOHr,n_COr,n_Wr,pH2r,pCO2r,pMeOHr,pCOr,pWr])\n",
        "data_transposed = data.transpose()\n",
        "df_PBR = pd.DataFrame(data_transposed,columns=[\"Reactor_Length\",\"Conversion\",'Selectivity','Yield','n_H2r','n_CO2r','n_MeOHr','n_COr','n_Wr','pH2r','pCO2r','pMeOHr','pCOr','pWr'])\n",
        "df_PBR"
      ],
      "execution_count": null,
      "outputs": [
        {
          "output_type": "execute_result",
          "data": {
            "text/html": [
              "<div>\n",
              "<style scoped>\n",
              "    .dataframe tbody tr th:only-of-type {\n",
              "        vertical-align: middle;\n",
              "    }\n",
              "\n",
              "    .dataframe tbody tr th {\n",
              "        vertical-align: top;\n",
              "    }\n",
              "\n",
              "    .dataframe thead th {\n",
              "        text-align: right;\n",
              "    }\n",
              "</style>\n",
              "<table border=\"1\" class=\"dataframe\">\n",
              "  <thead>\n",
              "    <tr style=\"text-align: right;\">\n",
              "      <th></th>\n",
              "      <th>Reactor_Length</th>\n",
              "      <th>Conversion</th>\n",
              "      <th>Selectivity</th>\n",
              "      <th>Yield</th>\n",
              "      <th>n_H2r</th>\n",
              "      <th>n_CO2r</th>\n",
              "      <th>n_MeOHr</th>\n",
              "      <th>n_COr</th>\n",
              "      <th>n_Wr</th>\n",
              "      <th>pH2r</th>\n",
              "      <th>pCO2r</th>\n",
              "      <th>pMeOHr</th>\n",
              "      <th>pCOr</th>\n",
              "      <th>pWr</th>\n",
              "    </tr>\n",
              "  </thead>\n",
              "  <tbody>\n",
              "    <tr>\n",
              "      <th>0</th>\n",
              "      <td>0.00000</td>\n",
              "      <td>0.000000</td>\n",
              "      <td>NaN</td>\n",
              "      <td>NaN</td>\n",
              "      <td>0.000140</td>\n",
              "      <td>0.000047</td>\n",
              "      <td>0.000000e+00</td>\n",
              "      <td>0.000000e+00</td>\n",
              "      <td>0.000000e+00</td>\n",
              "      <td>7.500000</td>\n",
              "      <td>2.500000</td>\n",
              "      <td>0.000000</td>\n",
              "      <td>0.000000</td>\n",
              "      <td>0.000000</td>\n",
              "    </tr>\n",
              "    <tr>\n",
              "      <th>1</th>\n",
              "      <td>0.00001</td>\n",
              "      <td>0.315060</td>\n",
              "      <td>61.487029</td>\n",
              "      <td>0.193721</td>\n",
              "      <td>0.000139</td>\n",
              "      <td>0.000046</td>\n",
              "      <td>9.008615e-08</td>\n",
              "      <td>5.642630e-08</td>\n",
              "      <td>1.465124e-07</td>\n",
              "      <td>7.489692</td>\n",
              "      <td>2.494540</td>\n",
              "      <td>0.004848</td>\n",
              "      <td>0.003036</td>\n",
              "      <td>0.007884</td>\n",
              "    </tr>\n",
              "    <tr>\n",
              "      <th>2</th>\n",
              "      <td>0.00002</td>\n",
              "      <td>0.589310</td>\n",
              "      <td>60.070748</td>\n",
              "      <td>0.354003</td>\n",
              "      <td>0.000139</td>\n",
              "      <td>0.000046</td>\n",
              "      <td>1.646219e-07</td>\n",
              "      <td>1.094248e-07</td>\n",
              "      <td>2.740466e-07</td>\n",
              "      <td>7.480808</td>\n",
              "      <td>2.489674</td>\n",
              "      <td>0.008866</td>\n",
              "      <td>0.005893</td>\n",
              "      <td>0.014759</td>\n",
              "    </tr>\n",
              "    <tr>\n",
              "      <th>3</th>\n",
              "      <td>0.00003</td>\n",
              "      <td>0.834113</td>\n",
              "      <td>58.822443</td>\n",
              "      <td>0.490645</td>\n",
              "      <td>0.000139</td>\n",
              "      <td>0.000046</td>\n",
              "      <td>2.281647e-07</td>\n",
              "      <td>1.597225e-07</td>\n",
              "      <td>3.878872e-07</td>\n",
              "      <td>7.472948</td>\n",
              "      <td>2.485244</td>\n",
              "      <td>0.012296</td>\n",
              "      <td>0.008608</td>\n",
              "      <td>0.020904</td>\n",
              "    </tr>\n",
              "    <tr>\n",
              "      <th>4</th>\n",
              "      <td>0.00004</td>\n",
              "      <td>1.056471</td>\n",
              "      <td>57.702012</td>\n",
              "      <td>0.609605</td>\n",
              "      <td>0.000138</td>\n",
              "      <td>0.000046</td>\n",
              "      <td>2.834844e-07</td>\n",
              "      <td>2.078059e-07</td>\n",
              "      <td>4.912904e-07</td>\n",
              "      <td>7.465864</td>\n",
              "      <td>2.481151</td>\n",
              "      <td>0.015287</td>\n",
              "      <td>0.011206</td>\n",
              "      <td>0.026493</td>\n",
              "    </tr>\n",
              "    <tr>\n",
              "      <th>...</th>\n",
              "      <td>...</td>\n",
              "      <td>...</td>\n",
              "      <td>...</td>\n",
              "      <td>...</td>\n",
              "      <td>...</td>\n",
              "      <td>...</td>\n",
              "      <td>...</td>\n",
              "      <td>...</td>\n",
              "      <td>...</td>\n",
              "      <td>...</td>\n",
              "      <td>...</td>\n",
              "      <td>...</td>\n",
              "      <td>...</td>\n",
              "      <td>...</td>\n",
              "    </tr>\n",
              "    <tr>\n",
              "      <th>9995</th>\n",
              "      <td>0.09995</td>\n",
              "      <td>17.082101</td>\n",
              "      <td>7.386382</td>\n",
              "      <td>1.261749</td>\n",
              "      <td>0.000130</td>\n",
              "      <td>0.000039</td>\n",
              "      <td>5.867510e-07</td>\n",
              "      <td>7.356934e-06</td>\n",
              "      <td>7.943685e-06</td>\n",
              "      <td>7.054364</td>\n",
              "      <td>2.086108</td>\n",
              "      <td>0.031744</td>\n",
              "      <td>0.398020</td>\n",
              "      <td>0.429764</td>\n",
              "    </tr>\n",
              "    <tr>\n",
              "      <th>9996</th>\n",
              "      <td>0.09996</td>\n",
              "      <td>17.082101</td>\n",
              "      <td>7.386382</td>\n",
              "      <td>1.261749</td>\n",
              "      <td>0.000130</td>\n",
              "      <td>0.000039</td>\n",
              "      <td>5.867510e-07</td>\n",
              "      <td>7.356934e-06</td>\n",
              "      <td>7.943685e-06</td>\n",
              "      <td>7.054364</td>\n",
              "      <td>2.086108</td>\n",
              "      <td>0.031744</td>\n",
              "      <td>0.398020</td>\n",
              "      <td>0.429764</td>\n",
              "    </tr>\n",
              "    <tr>\n",
              "      <th>9997</th>\n",
              "      <td>0.09997</td>\n",
              "      <td>17.082101</td>\n",
              "      <td>7.386382</td>\n",
              "      <td>1.261749</td>\n",
              "      <td>0.000130</td>\n",
              "      <td>0.000039</td>\n",
              "      <td>5.867510e-07</td>\n",
              "      <td>7.356934e-06</td>\n",
              "      <td>7.943685e-06</td>\n",
              "      <td>7.054364</td>\n",
              "      <td>2.086108</td>\n",
              "      <td>0.031744</td>\n",
              "      <td>0.398020</td>\n",
              "      <td>0.429764</td>\n",
              "    </tr>\n",
              "    <tr>\n",
              "      <th>9998</th>\n",
              "      <td>0.09998</td>\n",
              "      <td>17.082101</td>\n",
              "      <td>7.386382</td>\n",
              "      <td>1.261749</td>\n",
              "      <td>0.000130</td>\n",
              "      <td>0.000039</td>\n",
              "      <td>5.867510e-07</td>\n",
              "      <td>7.356934e-06</td>\n",
              "      <td>7.943685e-06</td>\n",
              "      <td>7.054364</td>\n",
              "      <td>2.086108</td>\n",
              "      <td>0.031744</td>\n",
              "      <td>0.398020</td>\n",
              "      <td>0.429764</td>\n",
              "    </tr>\n",
              "    <tr>\n",
              "      <th>9999</th>\n",
              "      <td>0.09999</td>\n",
              "      <td>17.082101</td>\n",
              "      <td>7.386382</td>\n",
              "      <td>1.261749</td>\n",
              "      <td>0.000130</td>\n",
              "      <td>0.000039</td>\n",
              "      <td>5.867510e-07</td>\n",
              "      <td>7.356934e-06</td>\n",
              "      <td>7.943685e-06</td>\n",
              "      <td>7.054364</td>\n",
              "      <td>2.086108</td>\n",
              "      <td>0.031744</td>\n",
              "      <td>0.398020</td>\n",
              "      <td>0.429764</td>\n",
              "    </tr>\n",
              "  </tbody>\n",
              "</table>\n",
              "<p>10000 rows × 14 columns</p>\n",
              "</div>"
            ],
            "text/plain": [
              "      Reactor_Length  Conversion  Selectivity  ...    pMeOHr      pCOr       pWr\n",
              "0            0.00000    0.000000          NaN  ...  0.000000  0.000000  0.000000\n",
              "1            0.00001    0.315060    61.487029  ...  0.004848  0.003036  0.007884\n",
              "2            0.00002    0.589310    60.070748  ...  0.008866  0.005893  0.014759\n",
              "3            0.00003    0.834113    58.822443  ...  0.012296  0.008608  0.020904\n",
              "4            0.00004    1.056471    57.702012  ...  0.015287  0.011206  0.026493\n",
              "...              ...         ...          ...  ...       ...       ...       ...\n",
              "9995         0.09995   17.082101     7.386382  ...  0.031744  0.398020  0.429764\n",
              "9996         0.09996   17.082101     7.386382  ...  0.031744  0.398020  0.429764\n",
              "9997         0.09997   17.082101     7.386382  ...  0.031744  0.398020  0.429764\n",
              "9998         0.09998   17.082101     7.386382  ...  0.031744  0.398020  0.429764\n",
              "9999         0.09999   17.082101     7.386382  ...  0.031744  0.398020  0.429764\n",
              "\n",
              "[10000 rows x 14 columns]"
            ]
          },
          "metadata": {
            "tags": []
          },
          "execution_count": 56
        }
      ]
    },
    {
      "cell_type": "code",
      "metadata": {
        "id": "7iy4c4y10SOk",
        "outputId": "b55b15cc-f320-4518-fd99-4f9390b468d5",
        "colab": {
          "base_uri": "https://localhost:8080/",
          "height": 17
        }
      },
      "source": [
        "#To export your data frame to Excel\n",
        "df_PBR.to_excel('PBR_10_250.xlsx',index=False,header=False) \n",
        "from google.colab import files\n",
        "files.download('PBR_10_250.xlsx')"
      ],
      "execution_count": null,
      "outputs": [
        {
          "output_type": "display_data",
          "data": {
            "application/javascript": [
              "\n",
              "    async function download(id, filename, size) {\n",
              "      if (!google.colab.kernel.accessAllowed) {\n",
              "        return;\n",
              "      }\n",
              "      const div = document.createElement('div');\n",
              "      const label = document.createElement('label');\n",
              "      label.textContent = `Downloading \"${filename}\": `;\n",
              "      div.appendChild(label);\n",
              "      const progress = document.createElement('progress');\n",
              "      progress.max = size;\n",
              "      div.appendChild(progress);\n",
              "      document.body.appendChild(div);\n",
              "\n",
              "      const buffers = [];\n",
              "      let downloaded = 0;\n",
              "\n",
              "      const channel = await google.colab.kernel.comms.open(id);\n",
              "      // Send a message to notify the kernel that we're ready.\n",
              "      channel.send({})\n",
              "\n",
              "      for await (const message of channel.messages) {\n",
              "        // Send a message to notify the kernel that we're ready.\n",
              "        channel.send({})\n",
              "        if (message.buffers) {\n",
              "          for (const buffer of message.buffers) {\n",
              "            buffers.push(buffer);\n",
              "            downloaded += buffer.byteLength;\n",
              "            progress.value = downloaded;\n",
              "          }\n",
              "        }\n",
              "      }\n",
              "      const blob = new Blob(buffers, {type: 'application/binary'});\n",
              "      const a = document.createElement('a');\n",
              "      a.href = window.URL.createObjectURL(blob);\n",
              "      a.download = filename;\n",
              "      div.appendChild(a);\n",
              "      a.click();\n",
              "      div.remove();\n",
              "    }\n",
              "  "
            ],
            "text/plain": [
              "<IPython.core.display.Javascript object>"
            ]
          },
          "metadata": {
            "tags": []
          }
        },
        {
          "output_type": "display_data",
          "data": {
            "application/javascript": [
              "download(\"download_1ab629b4-9494-4648-a9a7-6cdff9620aef\", \"PBR_10_250.xlsx\", 1556059)"
            ],
            "text/plain": [
              "<IPython.core.display.Javascript object>"
            ]
          },
          "metadata": {
            "tags": []
          }
        }
      ]
    },
    {
      "cell_type": "code",
      "metadata": {
        "id": "P92lsizWk7a2"
      },
      "source": [
        "plt.plot(X,X_CO2);\n",
        "print(X_CO2[-1])\n",
        "print(S_MeOH[-1])\n",
        "print(Y_MeOH[-1])"
      ],
      "execution_count": null,
      "outputs": []
    },
    {
      "cell_type": "code",
      "metadata": {
        "id": "DPifp3C7mXI5"
      },
      "source": [
        "plt.plot(X,pH2r, color = '#1f77b4');\n",
        "plt.plot(X,pH2p, color = '#ff7f0e');"
      ],
      "execution_count": null,
      "outputs": []
    },
    {
      "cell_type": "code",
      "metadata": {
        "id": "tD-8s7GLmbD-"
      },
      "source": [
        "plt.plot(X,n_H2r, color = '#1f77b4');\n",
        "plt.plot(X,n_H2p, color = '#ff7f0e');"
      ],
      "execution_count": null,
      "outputs": []
    },
    {
      "cell_type": "code",
      "metadata": {
        "id": "KpG0FqKNmfJh"
      },
      "source": [
        "plt.plot(X,pCO2r);\n",
        "plt.plot(X,pCO2p);"
      ],
      "execution_count": null,
      "outputs": []
    },
    {
      "cell_type": "code",
      "metadata": {
        "id": "N2pKc0IHmkNa"
      },
      "source": [
        "plt.plot(X,n_CO2r, color = '#1f77b4');\n",
        "plt.plot(X,n_CO2p, color = '#ff7f0e');"
      ],
      "execution_count": null,
      "outputs": []
    },
    {
      "cell_type": "code",
      "metadata": {
        "id": "aFJj0H2mmntN"
      },
      "source": [
        "plt.plot(X,pCOr);\n",
        "plt.plot(X,pCOp);"
      ],
      "execution_count": null,
      "outputs": []
    },
    {
      "cell_type": "code",
      "metadata": {
        "id": "zG0GDxesmrDK"
      },
      "source": [
        "plt.plot(X,n_COr);\n",
        "plt.plot(X,n_COp);"
      ],
      "execution_count": null,
      "outputs": []
    },
    {
      "cell_type": "code",
      "metadata": {
        "id": "WMuVMU1Omuo0"
      },
      "source": [
        "plt.plot(X,pWr);\n",
        "plt.plot(X,pWp);"
      ],
      "execution_count": null,
      "outputs": []
    },
    {
      "cell_type": "code",
      "metadata": {
        "id": "SG_p1dgTm0-i"
      },
      "source": [
        "plt.plot(X,n_Wr);\n",
        "plt.plot(X,n_Wp);"
      ],
      "execution_count": null,
      "outputs": []
    },
    {
      "cell_type": "code",
      "metadata": {
        "id": "rV7s9CzAm2RB"
      },
      "source": [
        "plt.plot(X,pMeOHr);\n",
        "plt.plot(X,pMeOHp);"
      ],
      "execution_count": null,
      "outputs": []
    },
    {
      "cell_type": "code",
      "metadata": {
        "id": "br3Gn_fYm6ZZ"
      },
      "source": [
        "plt.plot(X,n_MeOHr);\n",
        "plt.plot(X,n_MeOHp);"
      ],
      "execution_count": null,
      "outputs": []
    },
    {
      "cell_type": "code",
      "metadata": {
        "id": "oXRy1Fmdm7wf"
      },
      "source": [
        "nTr = n_H2r+n_CO2r+n_MeOHr+n_COr+n_Wr\n",
        "nTp = n_H2p+n_CO2p+n_MeOHp+n_COp+n_Wp+n_swp\n",
        "plt.plot(X,nTr, color='blue');\n",
        "plt.plot(X,nTp, color='red');\n",
        "\n",
        "print(nTp[0])\n",
        "print(nTr[0])\n",
        "print(nTp[-1])\n",
        "print(nTr[-1])"
      ],
      "execution_count": null,
      "outputs": []
    }
  ]
}