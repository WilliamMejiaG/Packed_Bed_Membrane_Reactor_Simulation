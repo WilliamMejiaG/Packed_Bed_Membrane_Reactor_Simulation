{
  "nbformat": 4,
  "nbformat_minor": 0,
  "metadata": {
    "colab": {
      "name": "PBMR_CO_NORMAL.ipynb",
      "provenance": [],
      "collapsed_sections": [],
      "authorship_tag": "ABX9TyMs7EUJu1CqyJv8i9XkTbTN",
      "include_colab_link": true
    },
    "kernelspec": {
      "name": "python3",
      "display_name": "Python 3"
    }
  },
  "cells": [
    {
      "cell_type": "markdown",
      "metadata": {
        "id": "view-in-github",
        "colab_type": "text"
      },
      "source": [
        "<a href=\"https://colab.research.google.com/github/WilliamMejiaG/Packed_Bed_Membrane_Reactor_Simulation/blob/main/PBMR_Cocurrent_configuration.ipynb\" target=\"_parent\"><img src=\"https://colab.research.google.com/assets/colab-badge.svg\" alt=\"Open In Colab\"/></a>"
      ]
    },
    {
      "cell_type": "code",
      "metadata": {
        "id": "dzKjUAfdJ9sG"
      },
      "source": [
        "import numpy as np\n",
        "from scipy.integrate import odeint\n",
        "import matplotlib.pyplot as plt\n",
        "from scipy import optimize\n",
        "import pandas as pd\n"
      ],
      "execution_count": null,
      "outputs": []
    },
    {
      "cell_type": "code",
      "metadata": {
        "id": "VWL4TyJDJ-iQ"
      },
      "source": [
        "def F_CO(VF,D_i,D_o,D_shell,FACT,rho_B,i,j,k,l,m):\n",
        "    ####################################################################\n",
        "    #Inlet molar fluxes\n",
        "    R=8.314472 #J/mol K\n",
        "    Ar = (np.pi*(D_i**2))/4 #m2\n",
        "    Dm = (D_o-D_i)/np.log(D_o/D_i)\n",
        "    Pm = np.pi*Dm\n",
        "    VSweep = l*VF\n",
        "    VCO2_0 = VF/(m+1)\n",
        "    VH2_0 = m*VCO2_0\n",
        "    nH2_0 = VH2_0/(22400*60) #V in cm3 STP/min\n",
        "    nCO2_0 = VCO2_0/(22400*60) #V in cm3 STP/min\n",
        "    nSweep = VSweep/(22400*60) #V in cm3 STP/min\n",
        "    T = j+273\n",
        "    \n",
        "    \"\"\"\n",
        "    PACKED BED MEMBRANE REACTOR MODEL\n",
        "    \"\"\"\n",
        "    # ODE definition\n",
        "    def F(y,X):\n",
        "        F = np.zeros(11)\n",
        "        \"\"\"\n",
        "        RETENTATE SIDE\n",
        "        \"\"\"\n",
        "        #Molar fluxes retentate\n",
        "    \n",
        "        n_H2r = y[0] \n",
        "        n_CO2r = y[1] \n",
        "        n_MeOHr = y[2]\n",
        "        n_COr = y[3]\n",
        "        n_Wr = y[4]\n",
        "   \n",
        "        n_Tr = n_H2r+n_CO2r+n_MeOHr+n_COr+n_Wr\n",
        "    \n",
        "        TERM = (i/(n_Tr)) \n",
        "    \n",
        "        pH2 = TERM*n_H2r\n",
        "        pCO2 = TERM*n_CO2r\n",
        "        pMeOH = TERM*n_MeOHr\n",
        "        pCO = TERM*n_COr\n",
        "        pW = TERM*n_Wr\n",
        "\n",
        "        \"\"\"\n",
        "        PERMEATE SIDE\n",
        "        \"\"\"\n",
        "        \n",
        "        Perm_W = 2.48e-3 #mol/ m2 s bar\n",
        "        Perm_MeOH =  1.77e-4 #mol/ m2 s bar\n",
        "        Perm_H2 = 1.38e-5 #mol/ m2 s bar\n",
        "        Perm_CO2 = 1.38e-5\n",
        "        #Perm_CO2 = 0\n",
        "        Perm_CO = 1.38e-5\n",
        "    \n",
        "        #Molar fluxes permeate\n",
        "\n",
        "        n_H2p = y[5] \n",
        "        n_CO2p = y[6] \n",
        "        n_MeOHp = y[7]\n",
        "        n_COp = y[8]\n",
        "        n_Wp = y[9]\n",
        "        n_swp = y[10]\n",
        "        n_Tp = n_H2p+n_CO2p+n_MeOHp+n_COp+n_Wp+n_swp\n",
        "    \n",
        "        Pp = FACT*i#bar\n",
        "    \n",
        "        #Molar fractions Permeate\n",
        "        y_H2p = n_H2p/n_Tp\n",
        "        y_CO2p = n_CO2p/n_Tp\n",
        "        y_MeOHp = n_MeOHp/n_Tp\n",
        "        y_COp = n_COp/n_Tp\n",
        "        y_Wp = n_Wp/n_Tp\n",
        "   \n",
        "    \n",
        "        #Partial pressures permeate\n",
        "\n",
        "        pH2_p = y_H2p*Pp #bar\n",
        "        pCO2_p = y_CO2p*Pp #bar\n",
        "        pMeOH_p = y_MeOHp*Pp  #bar\n",
        "        pCO_p = y_COp*Pp #bar\n",
        "        pW_p = y_Wp*Pp  #bar\n",
        "   \n",
        "        \"\"\"\n",
        "        KINETICS\n",
        "        \"\"\"\n",
        "        #Equilibrium constants\n",
        "        K1 = 10**((3066/T)-10.592)\n",
        "        K3 = 1/(10**((-2073.00/T)+2.029)) \n",
        "        #Parameters\n",
        "    \n",
        "        A = 1.07*np.exp(36696.00/(R*T)) #N0 mol/ kg cat s bar^2, Q J/mol\n",
        "        C = 1.22e10*np.exp(-94765.00/(R*T)) # N0 mol/ kg cat s bar, Q J/mol\n",
        "        D = 3453.38\n",
        "        E = 0.499*np.exp(17197.00/(R*T)) # N0 bar^-0.5, Q J/mol\n",
        "        N = 6.62e-11*np.exp(124119.00/(R*T)) # N0 bar^-1, Q J/mol\n",
        "    \n",
        "        #Reaction Equations\n",
        "        B = 1 + D*(pW/pH2) + E*np.sqrt(pH2) + N*pW\n",
        "        r1 = (A*pCO2*pH2*(1-((pW*pMeOH)/(K1*(pH2**3)*pCO2))))/(B**3)\n",
        "        r3 = (C*pCO2*(1-((K3*pW*pCO)/(pH2*pCO2))))/B\n",
        "    \n",
        "        \"\"\"\n",
        "        Differential equations retentate\n",
        "        \"\"\"\n",
        "        F[0] = -Pm*Perm_H2*(pH2-pH2_p)+Ar*(-3*r1-r3)*(rho_B)\n",
        "        F[1] = -Pm*Perm_CO2*(pCO2-pCO2_p)+Ar*(-r1-r3)*(rho_B)\n",
        "        F[2] = -Pm*Perm_MeOH*(pMeOH-pMeOH_p)+Ar*(r1)*(rho_B)\n",
        "        F[3] = -Pm*Perm_CO*(pCO-pCO_p)+(r3)*Ar*(rho_B)\n",
        "        F[4] = -Pm*Perm_W*(pW-pW_p)+(r1+r3)*Ar*(rho_B)\n",
        "    \n",
        "    \n",
        "        \"\"\"\n",
        "        Differential equations permeate co-current mode\n",
        "        \"\"\"\n",
        "        F[5] = Pm*Perm_H2*(pH2-pH2_p)\n",
        "        F[6] = Pm*Perm_CO2*(pCO2-pCO2_p)\n",
        "        F[7] = Pm*Perm_MeOH*(pMeOH-pMeOH_p)\n",
        "        F[8] = Pm*Perm_CO*(pCO-pCO_p)\n",
        "        F[9] = Pm*Perm_W*(pW-pW_p)\n",
        "        F[10] = 0\n",
        "\n",
        "        return F\n",
        "    # Initial conditions\n",
        "    \n",
        "    y = np.array([nH2_0,nCO2_0,0.00,0.00,0.00,0.00,0.00,0.00,0.00,0.00,nSweep])\n",
        "    \n",
        "    xStart = 0.0\n",
        "    h = 1.0e-5\n",
        "    k = k+h\n",
        "    X = np.arange(xStart,k,h,dtype=float)\n",
        "    Y = odeint(F,y,X)\n",
        "    \n",
        "    #FOR FROMENT CO-CURRENT FUNCTION\n",
        "    n_H2r = Y[:,0]\n",
        "    n_CO2r = Y[:,1]\n",
        "    n_MeOHr = Y[:,2]\n",
        "    n_COr = Y[:,3]\n",
        "    n_Wr = Y[:,4]\n",
        "    n_H2p = Y[:,5]\n",
        "    n_CO2p = Y[:,6]\n",
        "    n_MeOHp = Y[:,7]\n",
        "    n_COp = Y[:,8]\n",
        "    n_Wp = Y[:,9]\n",
        "    n_swp = Y[:,10]\n",
        "\n",
        "    n_Tr = n_H2r+n_CO2r+n_MeOHr+n_COr+n_Wr\n",
        "    n_Tp = n_H2p+n_CO2p+n_MeOHp+n_COp+n_Wp+n_swp\n",
        "    \n",
        "    pH2r = (n_H2r/n_Tr)*i\n",
        "    pCO2r = (n_CO2r/n_Tr)*i\n",
        "    pMeOHr = (n_MeOHr/n_Tr)*i\n",
        "    pCOr = (n_COr/n_Tr)*i\n",
        "    pWr = (n_Wr/n_Tr)*i\n",
        "    \n",
        "    pH2p = (n_H2p/n_Tp)*i\n",
        "    pCO2p = (n_CO2p/n_Tp)*i\n",
        "    pMeOHp = (n_MeOHp/n_Tp)*i\n",
        "    pCOp = (n_COp/n_Tp)*i\n",
        "    pWp = (n_Wp/n_Tp)*i\n",
        "              \n",
        "    #Graphic for conversion\n",
        "        \n",
        "    X_CO2 = ((nCO2_0-(n_CO2r+n_CO2p))/nCO2_0)*100      \n",
        "    S_MeOH = ((n_MeOHr+n_MeOHp)/(nCO2_0-n_CO2r))*100\n",
        "    Y_MeOH = (X_CO2*S_MeOH)/100\n",
        "    \n",
        "    \n",
        "    \n",
        "    \n",
        "    FROMENT = \"FROMENT\"\n",
        "    CO_CURRENT = \"CO_CURRENT\"\n",
        "         \n",
        "    return X,X_CO2,S_MeOH,Y_MeOH,n_H2r,n_CO2r,n_MeOHr,n_COr,n_Wr,n_H2p,n_CO2p,n_MeOHp,n_COp,n_Wp,n_swp,pH2r,pCO2r,pMeOHr,pCOr,pWr,pH2p,pCO2p,pMeOHp,pCOp,pWp,CO_CURRENT,FROMENT"
      ],
      "execution_count": null,
      "outputs": []
    },
    {
      "cell_type": "code",
      "metadata": {
        "id": "-VfsHySPK4M2"
      },
      "source": [
        "i = 10\n",
        "j = 250\n",
        "k = 0.10\n",
        "VF = 250\n",
        "l = 1\n",
        "m = 3\n",
        "D_i = 0.009 #m\n",
        "D_o = 0.012 #m\n",
        "D_shell = 0.019#m\n",
        "FACT = 1\n",
        "rho_B= 1142 #kg cat/m3 lecho\n"
      ],
      "execution_count": null,
      "outputs": []
    },
    {
      "cell_type": "code",
      "metadata": {
        "id": "TnNmD3lxLgWi",
        "outputId": "a0e1288a-5951-485b-ffbf-3c81751773c7",
        "colab": {
          "base_uri": "https://localhost:8080/",
          "height": 36
        }
      },
      "source": [
        "X,X_CO2,S_MeOH,Y_MeOH,n_H2r,n_CO2r,n_MeOHr,n_COr,n_Wr,n_H2p,n_CO2p,n_MeOHp,n_COp,n_Wp,n_swp,pH2r,pCO2r,pMeOHr,pCOr,pWr,pH2p,pCO2p,pMeOHp,pCOp,pWp,CO_CURRENT,FROMENT = F_CO(VF,D_i,D_o,D_shell,FACT,rho_B,i,j,k,l,m)"
      ],
      "execution_count": null,
      "outputs": [
        {
          "output_type": "stream",
          "text": [
            "/usr/local/lib/python3.6/dist-packages/ipykernel_launcher.py:163: RuntimeWarning: invalid value encountered in true_divide\n"
          ],
          "name": "stderr"
        }
      ]
    },
    {
      "cell_type": "code",
      "metadata": {
        "id": "fzL_SGNqZLMK",
        "outputId": "22574a27-f86f-41ee-f04d-49f130d94f38",
        "colab": {
          "base_uri": "https://localhost:8080/",
          "height": 444
        }
      },
      "source": [
        "data = np.array([X,X_CO2,S_MeOH,Y_MeOH,n_H2r,n_CO2r,n_MeOHr,n_COr,n_Wr,n_H2p,n_CO2p,n_MeOHp,n_COp,n_Wp,n_swp,pH2r,pCO2r,pMeOHr,pCOr,pWr,pH2p,pCO2p,pMeOHp,pCOp,pWp])\n",
        "data_transposed = data.transpose()\n",
        "df_PBMR_CO = pd.DataFrame(data_transposed,columns=[\"Reactor_Length\",\"Conversion\",'Selectivity','Yield','n_H2r','n_CO2r','n_MeOHr','n_COr','n_Wr','n_H2p','n_CO2p','n_MeOHp','n_COp','n_Wp','n_swp','pH2r','pCO2r','pMeOHr','pCOr','pWr','pH2p','pCO2p','pMeOHp','pCOp','pWp'])\n",
        "df_PBMR_CO"
      ],
      "execution_count": null,
      "outputs": [
        {
          "output_type": "execute_result",
          "data": {
            "text/html": [
              "<div>\n",
              "<style scoped>\n",
              "    .dataframe tbody tr th:only-of-type {\n",
              "        vertical-align: middle;\n",
              "    }\n",
              "\n",
              "    .dataframe tbody tr th {\n",
              "        vertical-align: top;\n",
              "    }\n",
              "\n",
              "    .dataframe thead th {\n",
              "        text-align: right;\n",
              "    }\n",
              "</style>\n",
              "<table border=\"1\" class=\"dataframe\">\n",
              "  <thead>\n",
              "    <tr style=\"text-align: right;\">\n",
              "      <th></th>\n",
              "      <th>Reactor_Length</th>\n",
              "      <th>Conversion</th>\n",
              "      <th>Selectivity</th>\n",
              "      <th>Yield</th>\n",
              "      <th>n_H2r</th>\n",
              "      <th>n_CO2r</th>\n",
              "      <th>n_MeOHr</th>\n",
              "      <th>n_COr</th>\n",
              "      <th>n_Wr</th>\n",
              "      <th>n_H2p</th>\n",
              "      <th>n_CO2p</th>\n",
              "      <th>n_MeOHp</th>\n",
              "      <th>n_COp</th>\n",
              "      <th>n_Wp</th>\n",
              "      <th>n_swp</th>\n",
              "      <th>pH2r</th>\n",
              "      <th>pCO2r</th>\n",
              "      <th>pMeOHr</th>\n",
              "      <th>pCOr</th>\n",
              "      <th>pWr</th>\n",
              "      <th>pH2p</th>\n",
              "      <th>pCO2p</th>\n",
              "      <th>pMeOHp</th>\n",
              "      <th>pCOp</th>\n",
              "      <th>pWp</th>\n",
              "    </tr>\n",
              "  </thead>\n",
              "  <tbody>\n",
              "    <tr>\n",
              "      <th>0</th>\n",
              "      <td>0.00000</td>\n",
              "      <td>0.000000</td>\n",
              "      <td>NaN</td>\n",
              "      <td>NaN</td>\n",
              "      <td>0.000140</td>\n",
              "      <td>0.000047</td>\n",
              "      <td>0.000000e+00</td>\n",
              "      <td>0.000000e+00</td>\n",
              "      <td>0.000000e+00</td>\n",
              "      <td>0.000000e+00</td>\n",
              "      <td>0.000000e+00</td>\n",
              "      <td>0.000000e+00</td>\n",
              "      <td>0.000000e+00</td>\n",
              "      <td>0.000000e+00</td>\n",
              "      <td>0.000186</td>\n",
              "      <td>7.500000</td>\n",
              "      <td>2.500000</td>\n",
              "      <td>0.000000</td>\n",
              "      <td>0.000000</td>\n",
              "      <td>0.000000</td>\n",
              "      <td>0.000000</td>\n",
              "      <td>0.000000e+00</td>\n",
              "      <td>0.000000e+00</td>\n",
              "      <td>0.000000e+00</td>\n",
              "      <td>0.000000e+00</td>\n",
              "    </tr>\n",
              "    <tr>\n",
              "      <th>1</th>\n",
              "      <td>0.00001</td>\n",
              "      <td>0.538379</td>\n",
              "      <td>60.336874</td>\n",
              "      <td>0.324841</td>\n",
              "      <td>0.000139</td>\n",
              "      <td>0.000046</td>\n",
              "      <td>1.510672e-07</td>\n",
              "      <td>9.929462e-08</td>\n",
              "      <td>2.503565e-07</td>\n",
              "      <td>3.386704e-11</td>\n",
              "      <td>1.128087e-11</td>\n",
              "      <td>2.434411e-13</td>\n",
              "      <td>1.221381e-14</td>\n",
              "      <td>5.605681e-12</td>\n",
              "      <td>0.000186</td>\n",
              "      <td>7.482452</td>\n",
              "      <td>2.490586</td>\n",
              "      <td>0.008135</td>\n",
              "      <td>0.005347</td>\n",
              "      <td>0.013481</td>\n",
              "      <td>0.000002</td>\n",
              "      <td>6.064594e-07</td>\n",
              "      <td>1.308739e-08</td>\n",
              "      <td>6.566142e-10</td>\n",
              "      <td>3.013613e-07</td>\n",
              "    </tr>\n",
              "    <tr>\n",
              "      <th>2</th>\n",
              "      <td>0.00002</td>\n",
              "      <td>0.972301</td>\n",
              "      <td>58.138474</td>\n",
              "      <td>0.565281</td>\n",
              "      <td>0.000139</td>\n",
              "      <td>0.000046</td>\n",
              "      <td>2.628847e-07</td>\n",
              "      <td>1.892633e-07</td>\n",
              "      <td>4.521279e-07</td>\n",
              "      <td>6.766339e-11</td>\n",
              "      <td>2.252283e-11</td>\n",
              "      <td>8.943863e-13</td>\n",
              "      <td>4.744966e-14</td>\n",
              "      <td>2.105743e-11</td>\n",
              "      <td>0.000186</td>\n",
              "      <td>7.468538</td>\n",
              "      <td>2.482710</td>\n",
              "      <td>0.014173</td>\n",
              "      <td>0.010204</td>\n",
              "      <td>0.024375</td>\n",
              "      <td>0.000004</td>\n",
              "      <td>1.210827e-06</td>\n",
              "      <td>4.808218e-08</td>\n",
              "      <td>2.550892e-09</td>\n",
              "      <td>1.132047e-06</td>\n",
              "    </tr>\n",
              "    <tr>\n",
              "      <th>3</th>\n",
              "      <td>0.00003</td>\n",
              "      <td>1.342550</td>\n",
              "      <td>56.313181</td>\n",
              "      <td>0.756032</td>\n",
              "      <td>0.000138</td>\n",
              "      <td>0.000046</td>\n",
              "      <td>3.515947e-07</td>\n",
              "      <td>2.727289e-07</td>\n",
              "      <td>6.242809e-07</td>\n",
              "      <td>1.014026e-10</td>\n",
              "      <td>3.373172e-11</td>\n",
              "      <td>1.853507e-12</td>\n",
              "      <td>1.037380e-13</td>\n",
              "      <td>4.460877e-11</td>\n",
              "      <td>0.000186</td>\n",
              "      <td>7.456824</td>\n",
              "      <td>2.475796</td>\n",
              "      <td>0.018973</td>\n",
              "      <td>0.014718</td>\n",
              "      <td>0.033689</td>\n",
              "      <td>0.000005</td>\n",
              "      <td>1.813416e-06</td>\n",
              "      <td>9.964446e-08</td>\n",
              "      <td>5.576947e-09</td>\n",
              "      <td>2.398165e-06</td>\n",
              "    </tr>\n",
              "    <tr>\n",
              "      <th>4</th>\n",
              "      <td>0.00004</td>\n",
              "      <td>1.667167</td>\n",
              "      <td>54.713605</td>\n",
              "      <td>0.912167</td>\n",
              "      <td>0.000138</td>\n",
              "      <td>0.000046</td>\n",
              "      <td>4.242064e-07</td>\n",
              "      <td>3.510726e-07</td>\n",
              "      <td>7.752069e-07</td>\n",
              "      <td>1.350922e-10</td>\n",
              "      <td>4.491083e-11</td>\n",
              "      <td>3.067774e-12</td>\n",
              "      <td>1.798642e-13</td>\n",
              "      <td>7.529787e-11</td>\n",
              "      <td>0.000186</td>\n",
              "      <td>7.446678</td>\n",
              "      <td>2.469586</td>\n",
              "      <td>0.022910</td>\n",
              "      <td>0.018960</td>\n",
              "      <td>0.041866</td>\n",
              "      <td>0.000007</td>\n",
              "      <td>2.414403e-06</td>\n",
              "      <td>1.649233e-07</td>\n",
              "      <td>9.669488e-09</td>\n",
              "      <td>4.048008e-06</td>\n",
              "    </tr>\n",
              "    <tr>\n",
              "      <th>...</th>\n",
              "      <td>...</td>\n",
              "      <td>...</td>\n",
              "      <td>...</td>\n",
              "      <td>...</td>\n",
              "      <td>...</td>\n",
              "      <td>...</td>\n",
              "      <td>...</td>\n",
              "      <td>...</td>\n",
              "      <td>...</td>\n",
              "      <td>...</td>\n",
              "      <td>...</td>\n",
              "      <td>...</td>\n",
              "      <td>...</td>\n",
              "      <td>...</td>\n",
              "      <td>...</td>\n",
              "      <td>...</td>\n",
              "      <td>...</td>\n",
              "      <td>...</td>\n",
              "      <td>...</td>\n",
              "      <td>...</td>\n",
              "      <td>...</td>\n",
              "      <td>...</td>\n",
              "      <td>...</td>\n",
              "      <td>...</td>\n",
              "      <td>...</td>\n",
              "    </tr>\n",
              "    <tr>\n",
              "      <th>9996</th>\n",
              "      <td>0.09996</td>\n",
              "      <td>19.651884</td>\n",
              "      <td>7.557884</td>\n",
              "      <td>1.485267</td>\n",
              "      <td>0.000129</td>\n",
              "      <td>0.000037</td>\n",
              "      <td>6.769777e-07</td>\n",
              "      <td>8.421749e-06</td>\n",
              "      <td>6.589564e-06</td>\n",
              "      <td>3.193990e-07</td>\n",
              "      <td>9.367406e-08</td>\n",
              "      <td>2.079524e-08</td>\n",
              "      <td>1.918840e-08</td>\n",
              "      <td>2.549146e-06</td>\n",
              "      <td>0.000186</td>\n",
              "      <td>7.083989</td>\n",
              "      <td>2.052185</td>\n",
              "      <td>0.037276</td>\n",
              "      <td>0.463717</td>\n",
              "      <td>0.362833</td>\n",
              "      <td>0.016898</td>\n",
              "      <td>4.955929e-03</td>\n",
              "      <td>1.100195e-03</td>\n",
              "      <td>1.015183e-03</td>\n",
              "      <td>1.348654e-01</td>\n",
              "    </tr>\n",
              "    <tr>\n",
              "      <th>9997</th>\n",
              "      <td>0.09997</td>\n",
              "      <td>19.652090</td>\n",
              "      <td>7.557899</td>\n",
              "      <td>1.485285</td>\n",
              "      <td>0.000129</td>\n",
              "      <td>0.000037</td>\n",
              "      <td>6.769849e-07</td>\n",
              "      <td>8.421834e-06</td>\n",
              "      <td>6.589475e-06</td>\n",
              "      <td>3.194309e-07</td>\n",
              "      <td>9.368331e-08</td>\n",
              "      <td>2.079734e-08</td>\n",
              "      <td>1.919049e-08</td>\n",
              "      <td>2.549332e-06</td>\n",
              "      <td>0.000186</td>\n",
              "      <td>7.083991</td>\n",
              "      <td>2.052182</td>\n",
              "      <td>0.037276</td>\n",
              "      <td>0.463722</td>\n",
              "      <td>0.362829</td>\n",
              "      <td>0.016900</td>\n",
              "      <td>4.956413e-03</td>\n",
              "      <td>1.100305e-03</td>\n",
              "      <td>1.015293e-03</td>\n",
              "      <td>1.348751e-01</td>\n",
              "    </tr>\n",
              "    <tr>\n",
              "      <th>9998</th>\n",
              "      <td>0.09998</td>\n",
              "      <td>19.652297</td>\n",
              "      <td>7.557914</td>\n",
              "      <td>1.485304</td>\n",
              "      <td>0.000129</td>\n",
              "      <td>0.000037</td>\n",
              "      <td>6.769922e-07</td>\n",
              "      <td>8.421919e-06</td>\n",
              "      <td>6.589386e-06</td>\n",
              "      <td>3.194629e-07</td>\n",
              "      <td>9.369257e-08</td>\n",
              "      <td>2.079944e-08</td>\n",
              "      <td>1.919258e-08</td>\n",
              "      <td>2.549517e-06</td>\n",
              "      <td>0.000186</td>\n",
              "      <td>7.083993</td>\n",
              "      <td>2.052179</td>\n",
              "      <td>0.037277</td>\n",
              "      <td>0.463727</td>\n",
              "      <td>0.362824</td>\n",
              "      <td>0.016901</td>\n",
              "      <td>4.956897e-03</td>\n",
              "      <td>1.100414e-03</td>\n",
              "      <td>1.015402e-03</td>\n",
              "      <td>1.348847e-01</td>\n",
              "    </tr>\n",
              "    <tr>\n",
              "      <th>9999</th>\n",
              "      <td>0.09999</td>\n",
              "      <td>19.652503</td>\n",
              "      <td>7.557928</td>\n",
              "      <td>1.485322</td>\n",
              "      <td>0.000129</td>\n",
              "      <td>0.000037</td>\n",
              "      <td>6.769994e-07</td>\n",
              "      <td>8.422003e-06</td>\n",
              "      <td>6.589296e-06</td>\n",
              "      <td>3.194948e-07</td>\n",
              "      <td>9.370182e-08</td>\n",
              "      <td>2.080153e-08</td>\n",
              "      <td>1.919467e-08</td>\n",
              "      <td>2.549703e-06</td>\n",
              "      <td>0.000186</td>\n",
              "      <td>7.083994</td>\n",
              "      <td>2.052176</td>\n",
              "      <td>0.037277</td>\n",
              "      <td>0.463732</td>\n",
              "      <td>0.362820</td>\n",
              "      <td>0.016903</td>\n",
              "      <td>4.957380e-03</td>\n",
              "      <td>1.100524e-03</td>\n",
              "      <td>1.015512e-03</td>\n",
              "      <td>1.348943e-01</td>\n",
              "    </tr>\n",
              "    <tr>\n",
              "      <th>10000</th>\n",
              "      <td>0.10000</td>\n",
              "      <td>19.652710</td>\n",
              "      <td>7.557943</td>\n",
              "      <td>1.485341</td>\n",
              "      <td>0.000129</td>\n",
              "      <td>0.000037</td>\n",
              "      <td>6.770066e-07</td>\n",
              "      <td>8.422088e-06</td>\n",
              "      <td>6.589207e-06</td>\n",
              "      <td>3.195268e-07</td>\n",
              "      <td>9.371108e-08</td>\n",
              "      <td>2.080363e-08</td>\n",
              "      <td>1.919676e-08</td>\n",
              "      <td>2.549888e-06</td>\n",
              "      <td>0.000186</td>\n",
              "      <td>7.083996</td>\n",
              "      <td>2.052173</td>\n",
              "      <td>0.037277</td>\n",
              "      <td>0.463738</td>\n",
              "      <td>0.362815</td>\n",
              "      <td>0.016905</td>\n",
              "      <td>4.957864e-03</td>\n",
              "      <td>1.100634e-03</td>\n",
              "      <td>1.015621e-03</td>\n",
              "      <td>1.349040e-01</td>\n",
              "    </tr>\n",
              "  </tbody>\n",
              "</table>\n",
              "<p>10001 rows × 25 columns</p>\n",
              "</div>"
            ],
            "text/plain": [
              "       Reactor_Length  Conversion  ...          pCOp           pWp\n",
              "0             0.00000    0.000000  ...  0.000000e+00  0.000000e+00\n",
              "1             0.00001    0.538379  ...  6.566142e-10  3.013613e-07\n",
              "2             0.00002    0.972301  ...  2.550892e-09  1.132047e-06\n",
              "3             0.00003    1.342550  ...  5.576947e-09  2.398165e-06\n",
              "4             0.00004    1.667167  ...  9.669488e-09  4.048008e-06\n",
              "...               ...         ...  ...           ...           ...\n",
              "9996          0.09996   19.651884  ...  1.015183e-03  1.348654e-01\n",
              "9997          0.09997   19.652090  ...  1.015293e-03  1.348751e-01\n",
              "9998          0.09998   19.652297  ...  1.015402e-03  1.348847e-01\n",
              "9999          0.09999   19.652503  ...  1.015512e-03  1.348943e-01\n",
              "10000         0.10000   19.652710  ...  1.015621e-03  1.349040e-01\n",
              "\n",
              "[10001 rows x 25 columns]"
            ]
          },
          "metadata": {
            "tags": []
          },
          "execution_count": 5
        }
      ]
    },
    {
      "cell_type": "code",
      "metadata": {
        "id": "kDsoUj0Ag7iD",
        "outputId": "8895486d-7d78-46b7-8960-cb2a67d97c35",
        "colab": {
          "base_uri": "https://localhost:8080/",
          "height": 17
        }
      },
      "source": [
        "#To export your data frame to Excel\n",
        "df_PBMR_CO.to_excel('PBMR_CO_10_250.xlsx',index=False,header=False) \n",
        "from google.colab import files\n",
        "files.download('PBMR_CO_10_250.xlsx')\n"
      ],
      "execution_count": null,
      "outputs": [
        {
          "output_type": "display_data",
          "data": {
            "application/javascript": [
              "\n",
              "    async function download(id, filename, size) {\n",
              "      if (!google.colab.kernel.accessAllowed) {\n",
              "        return;\n",
              "      }\n",
              "      const div = document.createElement('div');\n",
              "      const label = document.createElement('label');\n",
              "      label.textContent = `Downloading \"${filename}\": `;\n",
              "      div.appendChild(label);\n",
              "      const progress = document.createElement('progress');\n",
              "      progress.max = size;\n",
              "      div.appendChild(progress);\n",
              "      document.body.appendChild(div);\n",
              "\n",
              "      const buffers = [];\n",
              "      let downloaded = 0;\n",
              "\n",
              "      const channel = await google.colab.kernel.comms.open(id);\n",
              "      // Send a message to notify the kernel that we're ready.\n",
              "      channel.send({})\n",
              "\n",
              "      for await (const message of channel.messages) {\n",
              "        // Send a message to notify the kernel that we're ready.\n",
              "        channel.send({})\n",
              "        if (message.buffers) {\n",
              "          for (const buffer of message.buffers) {\n",
              "            buffers.push(buffer);\n",
              "            downloaded += buffer.byteLength;\n",
              "            progress.value = downloaded;\n",
              "          }\n",
              "        }\n",
              "      }\n",
              "      const blob = new Blob(buffers, {type: 'application/binary'});\n",
              "      const a = document.createElement('a');\n",
              "      a.href = window.URL.createObjectURL(blob);\n",
              "      a.download = filename;\n",
              "      div.appendChild(a);\n",
              "      a.click();\n",
              "      div.remove();\n",
              "    }\n",
              "  "
            ],
            "text/plain": [
              "<IPython.core.display.Javascript object>"
            ]
          },
          "metadata": {
            "tags": []
          }
        },
        {
          "output_type": "display_data",
          "data": {
            "application/javascript": [
              "download(\"download_947c7828-dbd6-4d88-9e69-0b3f5807d392\", \"PBMR_CO_10_250.xlsx\", 3006331)"
            ],
            "text/plain": [
              "<IPython.core.display.Javascript object>"
            ]
          },
          "metadata": {
            "tags": []
          }
        }
      ]
    },
    {
      "cell_type": "code",
      "metadata": {
        "id": "6nXC_CjiMlra",
        "outputId": "3d4ab5ed-9851-4443-be85-f872d12529fc",
        "colab": {
          "base_uri": "https://localhost:8080/",
          "height": 340
        }
      },
      "source": [
        "plt.plot(X,X_CO2);\n",
        "print(X_CO2[-1])\n",
        "print(S_MeOH)\n",
        "print(Y_MeOH[-1])"
      ],
      "execution_count": null,
      "outputs": [
        {
          "output_type": "stream",
          "text": [
            "19.652709602270342\n",
            "[        nan 60.33687373 58.13847362 ...  7.55791361  7.55792818\n",
            "  7.55794275]\n",
            "1.4853405411739389\n"
          ],
          "name": "stdout"
        },
        {
          "output_type": "display_data",
          "data": {
            "image/png": "[encoded data removed]",
            "text/plain": [
              "<Figure size 432x288 with 1 Axes>"
            ]
          },
          "metadata": {
            "tags": [],
            "needs_background": "light"
          }
        }
      ]
    },
    {
      "cell_type": "code",
      "metadata": {
        "id": "zG3Rb6nYKN9n"
      },
      "source": [
        ""
      ],
      "execution_count": null,
      "outputs": []
    },
    {
      "cell_type": "code",
      "metadata": {
        "id": "tILShKZBM4Fz",
        "outputId": "f112b238-2db8-4048-b955-c4b387a4f1d3",
        "colab": {
          "base_uri": "https://localhost:8080/",
          "height": 265
        }
      },
      "source": [
        "plt.plot(X,pH2r, color = '#1f77b4');\n",
        "plt.plot(X,pH2p, color = '#ff7f0e');"
      ],
      "execution_count": null,
      "outputs": [
        {
          "output_type": "display_data",
          "data": {
            "image/png": "[encoded data removed]",
            "text/plain": [
              "<Figure size 432x288 with 1 Axes>"
            ]
          },
          "metadata": {
            "tags": [],
            "needs_background": "light"
          }
        }
      ]
    },
    {
      "cell_type": "code",
      "metadata": {
        "id": "HEPIQQ5yM7Hr",
        "outputId": "b65b4ec4-b761-4520-ead7-315c79486e3b",
        "colab": {
          "base_uri": "https://localhost:8080/",
          "height": 265
        }
      },
      "source": [
        "plt.plot(X,n_H2r, color = '#1f77b4');\n",
        "plt.plot(X,n_H2p, color = '#ff7f0e');"
      ],
      "execution_count": null,
      "outputs": [
        {
          "output_type": "display_data",
          "data": {
            "image/png": "[encoded data removed]",
            "text/plain": [
              "<Figure size 432x288 with 1 Axes>"
            ]
          },
          "metadata": {
            "tags": [],
            "needs_background": "light"
          }
        }
      ]
    },
    {
      "cell_type": "code",
      "metadata": {
        "id": "AXlyoE73OsdK",
        "outputId": "30f3e9fd-a538-4fd2-c816-8eb8ac7e5b76",
        "colab": {
          "base_uri": "https://localhost:8080/",
          "height": 265
        }
      },
      "source": [
        "plt.plot(X,pCO2r);\n",
        "plt.plot(X,pCO2p);"
      ],
      "execution_count": null,
      "outputs": [
        {
          "output_type": "display_data",
          "data": {
            "image/png": "[encoded data removed]",
            "text/plain": [
              "<Figure size 432x288 with 1 Axes>"
            ]
          },
          "metadata": {
            "tags": [],
            "needs_background": "light"
          }
        }
      ]
    },
    {
      "cell_type": "code",
      "metadata": {
        "id": "I6BuOX4oOvCz",
        "outputId": "256a5943-f531-4520-9c26-660981efd871",
        "colab": {
          "base_uri": "https://localhost:8080/",
          "height": 276
        }
      },
      "source": [
        "plt.plot(X,n_CO2r, color = '#1f77b4');\n",
        "plt.plot(X,n_CO2p, color = '#ff7f0e');"
      ],
      "execution_count": null,
      "outputs": [
        {
          "output_type": "display_data",
          "data": {
            "image/png": "[encoded data removed]",
            "text/plain": [
              "<Figure size 432x288 with 1 Axes>"
            ]
          },
          "metadata": {
            "tags": [],
            "needs_background": "light"
          }
        }
      ]
    },
    {
      "cell_type": "code",
      "metadata": {
        "id": "1MQHXuc3QWqO",
        "outputId": "05161246-b8b5-4642-f719-56eda7971340",
        "colab": {
          "base_uri": "https://localhost:8080/",
          "height": 265
        }
      },
      "source": [
        "plt.plot(X,pCOr);\n",
        "plt.plot(X,pCOp);"
      ],
      "execution_count": null,
      "outputs": [
        {
          "output_type": "display_data",
          "data": {
            "image/png": "[encoded data removed]",
            "text/plain": [
              "<Figure size 432x288 with 1 Axes>"
            ]
          },
          "metadata": {
            "tags": [],
            "needs_background": "light"
          }
        }
      ]
    },
    {
      "cell_type": "code",
      "metadata": {
        "id": "MV1eOkqNQlaB",
        "outputId": "88344cdb-335a-4214-ad72-d0ca647d9748",
        "colab": {
          "base_uri": "https://localhost:8080/",
          "height": 276
        }
      },
      "source": [
        "plt.plot(X,n_COr);\n",
        "plt.plot(X,n_COp);"
      ],
      "execution_count": null,
      "outputs": [
        {
          "output_type": "display_data",
          "data": {
            "image/png": "[encoded data removed]",
            "text/plain": [
              "<Figure size 432x288 with 1 Axes>"
            ]
          },
          "metadata": {
            "tags": [],
            "needs_background": "light"
          }
        }
      ]
    },
    {
      "cell_type": "code",
      "metadata": {
        "id": "8X_Sc3cbQ4yT",
        "outputId": "5c71086d-3e4b-45b0-ca03-373c91f68a32",
        "colab": {
          "base_uri": "https://localhost:8080/",
          "height": 265
        }
      },
      "source": [
        "plt.plot(X,pWr);\n",
        "plt.plot(X,pWp);"
      ],
      "execution_count": null,
      "outputs": [
        {
          "output_type": "display_data",
          "data": {
            "image/png": "[encoded data removed]",
            "text/plain": [
              "<Figure size 432x288 with 1 Axes>"
            ]
          },
          "metadata": {
            "tags": [],
            "needs_background": "light"
          }
        }
      ]
    },
    {
      "cell_type": "code",
      "metadata": {
        "id": "nbR_GB5UQ-m9",
        "outputId": "451e12fa-58a0-411b-bfb8-b721a347e959",
        "colab": {
          "base_uri": "https://localhost:8080/",
          "height": 276
        }
      },
      "source": [
        "plt.plot(X,n_Wr);\n",
        "plt.plot(X,n_Wp);"
      ],
      "execution_count": null,
      "outputs": [
        {
          "output_type": "display_data",
          "data": {
            "image/png": "[encoded data removed]",
            "text/plain": [
              "<Figure size 432x288 with 1 Axes>"
            ]
          },
          "metadata": {
            "tags": [],
            "needs_background": "light"
          }
        }
      ]
    },
    {
      "cell_type": "code",
      "metadata": {
        "id": "5GsI33mtRRGB",
        "outputId": "e15e0dbb-1939-4d76-bfca-2f83759b29bd",
        "colab": {
          "base_uri": "https://localhost:8080/",
          "height": 265
        }
      },
      "source": [
        "plt.plot(X,pMeOHr);\n",
        "plt.plot(X,pMeOHp);"
      ],
      "execution_count": null,
      "outputs": [
        {
          "output_type": "display_data",
          "data": {
            "image/png": "[encoded data removed]",
            "text/plain": [
              "<Figure size 432x288 with 1 Axes>"
            ]
          },
          "metadata": {
            "tags": [],
            "needs_background": "light"
          }
        }
      ]
    },
    {
      "cell_type": "code",
      "metadata": {
        "id": "Cl823PbARdHn",
        "outputId": "f874d153-5178-4aea-88cb-86e7e13a15dd",
        "colab": {
          "base_uri": "https://localhost:8080/",
          "height": 276
        }
      },
      "source": [
        "plt.plot(X,n_MeOHr);\n",
        "plt.plot(X,n_MeOHp);"
      ],
      "execution_count": null,
      "outputs": [
        {
          "output_type": "display_data",
          "data": {
            "image/png": "[encoded data removed]",
            "text/plain": [
              "<Figure size 432x288 with 1 Axes>"
            ]
          },
          "metadata": {
            "tags": [],
            "needs_background": "light"
          }
        }
      ]
    },
    {
      "cell_type": "code",
      "metadata": {
        "id": "ztlYcmR0PZ4y",
        "outputId": "04761706-c61a-4d97-eb83-90842b7dd0ff",
        "colab": {
          "base_uri": "https://localhost:8080/",
          "height": 340
        }
      },
      "source": [
        "nTr = n_H2r+n_CO2r+n_MeOHr+n_COr+n_Wr\n",
        "nTp = n_H2p+n_CO2p+n_MeOHp+n_COp+n_Wp+n_swp\n",
        "plt.plot(X,nTr, color='blue');\n",
        "plt.plot(X,nTp, color='red');\n",
        "\n",
        "print(nTp[0])\n",
        "print(nTr[0])\n",
        "print(nTp[-1])\n",
        "print(nTr[-1])"
      ],
      "execution_count": null,
      "outputs": [
        {
          "output_type": "stream",
          "text": [
            "0.00018601190476190475\n",
            "0.00018601190476190475\n",
            "0.00018901503110436887\n",
            "0.00018161315804365334\n"
          ],
          "name": "stdout"
        },
        {
          "output_type": "display_data",
          "data": {
            "image/png": "[encoded data removed]",
            "text/plain": [
              "<Figure size 432x288 with 1 Axes>"
            ]
          },
          "metadata": {
            "tags": [],
            "needs_background": "light"
          }
        }
      ]
    },
    {
      "cell_type": "code",
      "metadata": {
        "id": "8Gglh-6SPbtg",
        "outputId": "72cf32fa-9c26-4ad5-9534-2a95b64da18e",
        "colab": {
          "base_uri": "https://localhost:8080/",
          "height": 265
        }
      },
      "source": [
        "ppr = pCO2r+pH2r+pMeOHr+pCOr+pWr\n",
        "plt.plot(X,ppr, color = 'black');\n",
        "plt.plot(X,pH2r, color = 'red');\n",
        "plt.plot(X,pCO2r, color = 'blue');\n",
        "plt.plot(X,pCOr, color = 'yellow');\n",
        "plt.plot(X,pMeOHr, color = 'green');\n",
        "plt.plot(X,pWr, color = 'gray');"
      ],
      "execution_count": null,
      "outputs": [
        {
          "output_type": "display_data",
          "data": {
            "image/png": "[encoded data removed]",
            "text/plain": [
              "<Figure size 432x288 with 1 Axes>"
            ]
          },
          "metadata": {
            "tags": [],
            "needs_background": "light"
          }
        }
      ]
    },
    {
      "cell_type": "code",
      "metadata": {
        "id": "VJwNilOMPkKG",
        "outputId": "c50cecd7-ba53-40f0-a439-a362d5de6994",
        "colab": {
          "base_uri": "https://localhost:8080/",
          "height": 265
        }
      },
      "source": [
        "plt.plot(X,pCOr, color = 'yellow');\n",
        "plt.plot(X,pMeOHr, color = 'green');\n",
        "plt.plot(X,pWr, color = 'gray');"
      ],
      "execution_count": null,
      "outputs": [
        {
          "output_type": "display_data",
          "data": {
            "image/png": "[encoded data removed]",
            "text/plain": [
              "<Figure size 432x288 with 1 Axes>"
            ]
          },
          "metadata": {
            "tags": [],
            "needs_background": "light"
          }
        }
      ]
    },
    {
      "cell_type": "code",
      "metadata": {
        "id": "c88-3-k5QLfG",
        "outputId": "d108c45a-eb79-4461-f885-e2bd5674e47e",
        "colab": {
          "base_uri": "https://localhost:8080/",
          "height": 265
        }
      },
      "source": [
        "pswep = (n_swp/nTp)*i\n",
        "ppp = pCO2p+pH2p+pMeOHp+pCOp+pWp+pswep\n",
        "plt.plot(X,ppp, color = 'black');\n",
        "plt.plot(X,pH2p, color = 'red');\n",
        "plt.plot(X,pCO2p, color = 'blue');\n",
        "plt.plot(X,pCOp, color = 'yellow');\n",
        "plt.plot(X,pMeOHp, color = 'green');\n",
        "plt.plot(X,pWp, color = 'orange');\n",
        "plt.plot(X,pswep, color = 'gray');"
      ],
      "execution_count": null,
      "outputs": [
        {
          "output_type": "display_data",
          "data": {
            "image/png": "[encoded data removed]",
            "text/plain": [
              "<Figure size 432x288 with 1 Axes>"
            ]
          },
          "metadata": {
            "tags": [],
            "needs_background": "light"
          }
        }
      ]
    },
    {
      "cell_type": "code",
      "metadata": {
        "id": "lhmVJ3q3QNQN",
        "outputId": "30dd81f5-e541-4703-f71e-591435826244",
        "colab": {
          "base_uri": "https://localhost:8080/",
          "height": 267
        }
      },
      "source": [
        "plt.plot(X,pCO2p, color = 'blue');\n",
        "plt.plot(X,pCOp, color = 'yellow');\n",
        "plt.plot(X,pMeOHp, color = 'green');\n",
        "plt.plot(X,pWp, color = 'orange');"
      ],
      "execution_count": null,
      "outputs": [
        {
          "output_type": "display_data",
          "data": {
            "image/png": "[encoded data removed]",
            "text/plain": [
              "<Figure size 432x288 with 1 Axes>"
            ]
          },
          "metadata": {
            "tags": [],
            "needs_background": "light"
          }
        }
      ]
    }
  ]
}