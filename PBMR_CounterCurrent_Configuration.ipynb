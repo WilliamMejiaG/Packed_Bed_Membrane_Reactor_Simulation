{
  "nbformat": 4,
  "nbformat_minor": 0,
  "metadata": {
    "colab": {
      "name": "PBMR_CC_NORMAL.ipynb",
      "provenance": [],
      "collapsed_sections": [],
      "mount_file_id": "14G-LZhGdKSJcwiEmtWhMdIOoP-u8no1g",
      "authorship_tag": "ABX9TyPnKithpIXTa2km+mZU6gB+",
      "include_colab_link": true
    },
    "kernelspec": {
      "name": "python3",
      "display_name": "Python 3"
    }
  },
  "cells": [
    {
      "cell_type": "markdown",
      "metadata": {
        "id": "view-in-github",
        "colab_type": "text"
      },
      "source": [
        "<a href=\"https://colab.research.google.com/github/WilliamMejiaG/Packed_Bed_Membrane_Reactor_Simulation/blob/main/PBMR_CounterCurrent_Configuration.ipynb\" target=\"_parent\"><img src=\"https://colab.research.google.com/assets/colab-badge.svg\" alt=\"Open In Colab\"/></a>"
      ]
    },
    {
      "cell_type": "code",
      "metadata": {
        "id": "I1MRzmY7XmrE"
      },
      "source": [
        "import numpy as np\n",
        "from scipy.integrate import odeint\n",
        "import matplotlib.pyplot as plt\n",
        "from scipy import optimize\n",
        "import pandas as pd\n"
      ],
      "execution_count": null,
      "outputs": []
    },
    {
      "cell_type": "code",
      "metadata": {
        "id": "VWL4TyJDJ-iQ"
      },
      "source": [
        "def F_CO(VF,D_i,D_o,D_shell,FACT,rho_B,i,j,k,l,m):\n",
        "    ####################################################################\n",
        "    #Inlet molar fluxes\n",
        "    R=8.314472 #J/mol K\n",
        "    Ar = (np.pi*(D_i**2))/4 #m2\n",
        "    Dm = (D_o-D_i)/np.log(D_o/D_i)\n",
        "    Pm = np.pi*Dm\n",
        "    VSweep = l*VF\n",
        "    VCO2_0 = VF/(m+1)\n",
        "    VH2_0 = m*VCO2_0\n",
        "    nH2_0 = VH2_0/(22400*60) #V in cm3 STP/min\n",
        "    nCO2_0 = VCO2_0/(22400*60) #V in cm3 STP/min\n",
        "    nSweep = VSweep/(22400*60) #V in cm3 STP/min\n",
        "    T = j+273\n",
        "    \n",
        "    \"\"\"\n",
        "    PACKED BED MEMBRANE REACTOR MODEL\n",
        "    \"\"\"\n",
        "    # ODE definition\n",
        "    def F(y,X):\n",
        "        F = np.zeros(11)\n",
        "        \"\"\"\n",
        "        RETENTATE SIDE\n",
        "        \"\"\"\n",
        "        #Molar fluxes retentate\n",
        "    \n",
        "        n_H2r = y[0] \n",
        "        n_CO2r = y[1] \n",
        "        n_MeOHr = y[2]\n",
        "        n_COr = y[3]\n",
        "        n_Wr = y[4]\n",
        "   \n",
        "        n_Tr = n_H2r+n_CO2r+n_MeOHr+n_COr+n_Wr\n",
        "    \n",
        "        TERM = (i/(n_Tr)) \n",
        "    \n",
        "        pH2 = TERM*n_H2r\n",
        "        pCO2 = TERM*n_CO2r\n",
        "        pMeOH = TERM*n_MeOHr\n",
        "        pCO = TERM*n_COr\n",
        "        pW = TERM*n_Wr\n",
        "\n",
        "        \"\"\"\n",
        "        PERMEATE SIDE\n",
        "        \"\"\"\n",
        "        \n",
        "        Perm_W = 2.48e-3 #mol/ m2 s bar\n",
        "        Perm_MeOH =  1.77e-4 #mol/ m2 s bar\n",
        "        Perm_H2 = 1.38e-5 #mol/ m2 s bar\n",
        "        Perm_CO2 = 1.38e-5\n",
        "        #Perm_CO2 = 0\n",
        "        Perm_CO = 1.38e-5\n",
        "    \n",
        "        #Molar fluxes permeate\n",
        "\n",
        "        n_H2p = y[5] \n",
        "        n_CO2p = y[6] \n",
        "        n_MeOHp = y[7]\n",
        "        n_COp = y[8]\n",
        "        n_Wp = y[9]\n",
        "        n_swp = y[10]\n",
        "        n_Tp = n_H2p+n_CO2p+n_MeOHp+n_COp+n_Wp+n_swp\n",
        "    \n",
        "        Pp = FACT*i#bar\n",
        "    \n",
        "        #Molar fractions Permeate\n",
        "        y_H2p = n_H2p/n_Tp\n",
        "        y_CO2p = n_CO2p/n_Tp\n",
        "        y_MeOHp = n_MeOHp/n_Tp\n",
        "        y_COp = n_COp/n_Tp\n",
        "        y_Wp = n_Wp/n_Tp\n",
        "   \n",
        "    \n",
        "        #Partial pressures permeate\n",
        "\n",
        "        pH2_p = y_H2p*Pp #bar\n",
        "        pCO2_p = y_CO2p*Pp #bar\n",
        "        pMeOH_p = y_MeOHp*Pp  #bar\n",
        "        pCO_p = y_COp*Pp #bar\n",
        "        pW_p = y_Wp*Pp  #bar\n",
        "   \n",
        "        \"\"\"\n",
        "        KINETICS\n",
        "        \"\"\"\n",
        "        #Equilibrium constants\n",
        "        K1 = 10**((3066/T)-10.592)\n",
        "        K3 = 1/(10**((-2073.00/T)+2.029)) \n",
        "        #Parameters\n",
        "    \n",
        "        A = 1.07*np.exp(36696.00/(R*T)) #N0 mol/ kg cat s bar^2, Q J/mol\n",
        "        C = 1.22e10*np.exp(-94765.00/(R*T)) # N0 mol/ kg cat s bar, Q J/mol\n",
        "        D = 3453.38\n",
        "        E = 0.499*np.exp(17197.00/(R*T)) # N0 bar^-0.5, Q J/mol\n",
        "        N = 6.62e-11*np.exp(124119.00/(R*T)) # N0 bar^-1, Q J/mol\n",
        "    \n",
        "        #Reaction Equations\n",
        "        B = 1 + D*(pW/pH2) + E*np.sqrt(pH2) + N*pW\n",
        "        r1 = (A*pCO2*pH2*(1-((pW*pMeOH)/(K1*(pH2**3)*pCO2))))/(B**3)\n",
        "        r3 = (C*pCO2*(1-((K3*pW*pCO)/(pH2*pCO2))))/B\n",
        "    \n",
        "        \"\"\"\n",
        "        Differential equations retentate\n",
        "        \"\"\"\n",
        "        F[0] = -Pm*Perm_H2*(pH2-pH2_p)+Ar*(-3*r1-r3)*(rho_B)\n",
        "        F[1] = -Pm*Perm_CO2*(pCO2-pCO2_p)+Ar*(-r1-r3)*(rho_B)\n",
        "        F[2] = -Pm*Perm_MeOH*(pMeOH-pMeOH_p)+Ar*(r1)*(rho_B)\n",
        "        F[3] = -Pm*Perm_CO*(pCO-pCO_p)+(r3)*Ar*(rho_B)\n",
        "        F[4] = -Pm*Perm_W*(pW-pW_p)+(r1+r3)*Ar*(rho_B)\n",
        "    \n",
        "    \n",
        "        \"\"\"\n",
        "        Differential equations permeate co-current mode\n",
        "        \"\"\"\n",
        "        F[5] = Pm*Perm_H2*(pH2-pH2_p)\n",
        "        F[6] = Pm*Perm_CO2*(pCO2-pCO2_p)\n",
        "        F[7] = Pm*Perm_MeOH*(pMeOH-pMeOH_p)\n",
        "        F[8] = Pm*Perm_CO*(pCO-pCO_p)\n",
        "        F[9] = Pm*Perm_W*(pW-pW_p)\n",
        "        F[10] = 0\n",
        "\n",
        "        return F\n",
        "    # Initial conditions\n",
        "    \n",
        "    y = np.array([nH2_0,nCO2_0,0.00,0.00,0.00,0.00,0.00,0.00,0.00,0.00,nSweep])\n",
        "    \n",
        "    xStart = 0.0\n",
        "    h = 1.0e-5\n",
        "    k = k+h\n",
        "    X = np.arange(xStart,k,h,dtype=float)\n",
        "    Y = odeint(F,y,X)\n",
        "    \n",
        "    #FOR FROMENT CO-CURRENT FUNCTION\n",
        "    n_H2r = Y[:,0]\n",
        "    n_CO2r = Y[:,1]\n",
        "    n_MeOHr = Y[:,2]\n",
        "    n_COr = Y[:,3]\n",
        "    n_Wr = Y[:,4]\n",
        "    n_H2p = Y[:,5]\n",
        "    n_CO2p = Y[:,6]\n",
        "    n_MeOHp = Y[:,7]\n",
        "    n_COp = Y[:,8]\n",
        "    n_Wp = Y[:,9]\n",
        "    n_swp = Y[:,10]\n",
        "\n",
        "    n_Tr = n_H2r+n_CO2r+n_MeOHr+n_COr+n_Wr\n",
        "    n_Tp = n_H2p+n_CO2p+n_MeOHp+n_COp+n_Wp+n_swp\n",
        "    \n",
        "    pH2r = (n_H2r/n_Tr)*i\n",
        "    pCO2r = (n_CO2r/n_Tr)*i\n",
        "    pMeOHr = (n_MeOHr/n_Tr)*i\n",
        "    pCOr = (n_COr/n_Tr)*i\n",
        "    pWr = (n_Wr/n_Tr)*i\n",
        "    \n",
        "    pH2p = (n_H2p/n_Tp)*i\n",
        "    pCO2p = (n_CO2p/n_Tp)*i\n",
        "    pMeOHp = (n_MeOHp/n_Tp)*i\n",
        "    pCOp = (n_COp/n_Tp)*i\n",
        "    pWp = (n_Wp/n_Tp)*i\n",
        "              \n",
        "    #Graphic for conversion\n",
        "        \n",
        "    X_CO2 = ((nCO2_0-(n_CO2r+n_CO2p))/nCO2_0)*100      \n",
        "    S_MeOH = ((n_MeOHr[-1]+n_MeOHp[-1])/(nCO2_0-n_CO2r[-1]))*100\n",
        "    Y_MeOH = (X_CO2*S_MeOH)/100\n",
        "    \n",
        "    \n",
        "    \n",
        "    \n",
        "    FROMENT = \"FROMENT\"\n",
        "    CO_CURRENT = \"CO_CURRENT\"\n",
        "         \n",
        "    return X,X_CO2,S_MeOH,Y_MeOH,n_H2r,n_CO2r,n_MeOHr,n_COr,n_Wr,n_H2p,n_CO2p,n_MeOHp,n_COp,n_Wp,n_swp,pH2r,pCO2r,pMeOHr,pCOr,pWr,pH2p,pCO2p,pMeOHp,pCOp,pWp,CO_CURRENT,FROMENT"
      ],
      "execution_count": null,
      "outputs": []
    },
    {
      "cell_type": "code",
      "metadata": {
        "id": "x-mOzGUy_wou"
      },
      "source": [
        "def F_CC(VF,D_i,D_o,D_shell,FACT,rho_B,i,j,k,l,m):\n",
        "    ####################################################################\n",
        "    #Inlet molar fluxes\n",
        "    R=8.314472 #J/mol K\n",
        "    Ar = (np.pi*(D_i**2))/4 #m2\n",
        "    Dm = (D_o-D_i)/np.log(D_o/D_i)\n",
        "    Pm = np.pi*Dm\n",
        "    VSweep = l*VF\n",
        "    VCO2_0 = VF/(m+1)\n",
        "    VH2_0 = m*VCO2_0\n",
        "    nH2_0 = (VH2_0/(22400*60))*(3.6e6) #VH2_0 in cm3 STP/min para dar mmol/h\n",
        "    nCO2_0 = (VCO2_0/(22400*60))*(3.6e6) #VCO2_0  in cm3 STP/min para dar mmol/h\n",
        "    nSweep =  (VSweep/(22400*60))*(3.6e6) #VSweep in cm3 STP/min para dar mmol/h\n",
        "    T = j+273\n",
        "    \n",
        "    \n",
        "    \"\"\"\n",
        "    PACKED BED MEMBRANE REACTOR MODEL\n",
        "    \"\"\"\n",
        "    # ODE definition\n",
        "    def F(y,X):\n",
        "        F = np.zeros(11)\n",
        "        \"\"\"\n",
        "        RETENTATE SIDE\n",
        "        \"\"\"\n",
        "        Perm_W = (2.48e-3)*(3.6e6)#mmol/ m2 h bar\n",
        "        Perm_MeOH = (1.77e-4)*(3.6e6) #mmol/ m2 h bar\n",
        "        Perm_H2 = (1.38e-5)*(3.6e6) #mmol/ m2 h bar\n",
        "        Perm_CO2 = (1.38e-5)*(3.6e6)\n",
        "        #Perm_CO2 = (0)*(3.6e6)\n",
        "        Perm_CO = (1.38e-5)*(3.6e6)\n",
        "        \n",
        "        \n",
        "        #Molar fluxes retentate\n",
        "    \n",
        "        n_H2r = y[0] \n",
        "        n_CO2r = y[1] \n",
        "        n_MeOHr = y[2]\n",
        "        n_COr = y[3]\n",
        "        n_Wr = y[4]\n",
        "   \n",
        "        n_Tr = n_H2r+n_CO2r+n_MeOHr+n_COr+n_Wr\n",
        "    \n",
        "        TERM = (i/(n_Tr)) \n",
        "    \n",
        "        pH2 = TERM*n_H2r\n",
        "        pCO2 = TERM*n_CO2r\n",
        "        pMeOH = TERM*n_MeOHr\n",
        "        pCO = TERM*n_COr\n",
        "        pW = TERM*n_Wr\n",
        "\n",
        "        \"\"\"\n",
        "        PERMEATE SIDE\n",
        "        \"\"\"\n",
        "        \n",
        "    \n",
        "        #Molar fluxes permeate\n",
        "\n",
        "        n_H2p = y[5] \n",
        "        n_CO2p = y[6] \n",
        "        n_MeOHp = y[7]\n",
        "        n_COp = y[8]\n",
        "        n_Wp = y[9]\n",
        "        n_swp = y[10]\n",
        "        n_Tp = n_H2p+n_CO2p+n_MeOHp+n_COp+n_Wp+n_swp\n",
        "    \n",
        "        Pp = FACT*i#bar\n",
        "    \n",
        "        #Molar fractions Permeate\n",
        "        y_H2p = n_H2p/n_Tp\n",
        "        y_CO2p = n_CO2p/n_Tp\n",
        "        y_MeOHp = n_MeOHp/n_Tp\n",
        "        y_COp = n_COp/n_Tp\n",
        "        y_Wp = n_Wp/n_Tp\n",
        "   \n",
        "    \n",
        "        #Partial pressures permeate\n",
        "\n",
        "        pH2_p = y_H2p*Pp #bar\n",
        "        pCO2_p = y_CO2p*Pp #bar\n",
        "        pMeOH_p = y_MeOHp*Pp  #bar\n",
        "        pCO_p = y_COp*Pp #bar\n",
        "        pW_p = y_Wp*Pp  #bar\n",
        "   \n",
        "        \"\"\"\n",
        "        KINETICS\n",
        "        \"\"\"\n",
        "        #Equilibrium constants\n",
        "        K1 = 10**((3066/T)-10.592)\n",
        "        K3 = 1/(10**((-2073.00/T)+2.029)) \n",
        "        #Parameters\n",
        "    \n",
        "        A = 1.07*np.exp(36696.00/(R*T)) #N0 mmol/ kg cat h bar^2, Q J/mol\n",
        "        C = 1.22e10*np.exp(-94765.00/(R*T)) # N0 mmol/ kg cat h bar, Q J/mol\n",
        "        D = 3453.38\n",
        "        E = 0.499*np.exp(17197.00/(R*T)) # N0 bar^-0.5, Q J/mol\n",
        "        N = 6.62e-11*np.exp(124119.00/(R*T)) # N0 bar^-1, Q J/mol\n",
        "    \n",
        "        #Reaction Equations\n",
        "        B = 1 + D*(pW/pH2) + E*np.sqrt(pH2) + N*pW\n",
        "        r1 = (3.6e6)*(A*pCO2*pH2*(1-((pW*pMeOH)/(K1*(pH2**3)*pCO2))))/(B**3)\n",
        "        r3 = (3.6e6)*(C*pCO2*(1-((K3*pW*pCO)/(pH2*pCO2))))/B\n",
        "    \n",
        "        \"\"\"\n",
        "        Differential equations retentate\n",
        "        \"\"\"\n",
        "        F[0] = -Pm*(Perm_H2)*(pH2-pH2_p)+Ar*(-3*r1-r3)*(rho_B)\n",
        "        F[1] = -Pm*Perm_CO2*(pCO2-pCO2_p)+Ar*(-r1-r3)*(rho_B)\n",
        "        F[2] = -Pm*(Perm_MeOH)*(pMeOH-pMeOH_p)+Ar*(r1)*(rho_B)\n",
        "        F[3] = -Pm*Perm_CO*(pCO-pCO_p)+(r3)*Ar*(rho_B)\n",
        "        F[4] = -Pm*Perm_W*(pW-pW_p)+(r1+r3)*Ar*(rho_B)\n",
        "    \n",
        "    \n",
        "        \"\"\"\n",
        "        Differential equations permeate co-current mode\n",
        "        \"\"\"\n",
        "        F[5] = -Pm*(Perm_H2)*(pH2-pH2_p)\n",
        "        F[6] = -Pm*Perm_CO2*(pCO2-pCO2_p)\n",
        "        F[7] = -Pm*(Perm_MeOH)*(pMeOH-pMeOH_p)\n",
        "        F[8] = -Pm*Perm_CO*(pCO-pCO_p)\n",
        "        F[9] = -Pm*Perm_W*(pW-pW_p)\n",
        "        F[10] = 0\n",
        "\n",
        "        return F\n",
        "    \n",
        "    # Initial conditions\n",
        "    \n",
        "    xStart = 0.0\n",
        "    h = 1.0e-5\n",
        "    k = k+h\n",
        "    X = np.arange(xStart,k,h,dtype=float)\n",
        "\n",
        "    def initCond(u): #at z=0\n",
        "        return np.array([nH2_0,nCO2_0,0.0,0.0,0.0,u[0],u[1],u[2],u[3],u[4],nSweep])\n",
        "\n",
        "    def r(u): #Boundary conditions residuals\n",
        "        r = np.zeros(len(u))\n",
        "        Y = odeint(F,initCond(u),X)\n",
        "        y = Y[len(Y)-1]\n",
        "       \n",
        "        r[0] = y[5]\n",
        "        r[1] = y[6]\n",
        "        r[2] = y[7]\n",
        "        r[3] = y[8]\n",
        "        r[4] = y[9]\n",
        "    \n",
        "        return r\n",
        "\n",
        "    #Calling N_MeOHp and N_Wp\n",
        "    a1,b1,c1,d1,n_H2r,n_CO2r,n_MeOHr,n_COr,n_Wr,N_H2p,N_CO2p,N_MeOHp,N_COp,N_Wp,n_swp,pH2r,pCO2r,pMeOHr,pCOr,pWr,pH2p,pCO2p,pMeOHp,pCOp,pWp,CO_CURRENT,FROMENT = F_CO(VF,D_i,D_o,D_shell,FACT,rho_B,i,j,k,l,m)\n",
        "    \n",
        "    N_H2p1 = N_H2p*(3.6e6)\n",
        "    N_CO2p1 = N_CO2p*(3.6e6)\n",
        "    N_MeOHp1 = N_MeOHp*(3.6e6)\n",
        "    N_COp1 = N_COp*(3.6e6)\n",
        "    N_Wp1 = N_Wp*(3.6e6)\n",
        "    \n",
        "    \n",
        "    # Initial conditions\n",
        "    u = np.array([N_H2p1[-1],N_CO2p1[-1],N_MeOHp1[-1],N_COp1[-1],N_Wp1[-1]]) #Initial guess\n",
        "    u = optimize.newton(r,u,tol=1e-06)\n",
        "\n",
        "    Y = odeint(F,initCond(u),X)\n",
        "    \n",
        "    #FOR FROMENT CO-CURRENT FUNCTION\n",
        "    n_H2r = Y[:,0]\n",
        "    n_CO2r = Y[:,1]\n",
        "    n_MeOHr = Y[:,2]\n",
        "    n_COr = Y[:,3]\n",
        "    n_Wr = Y[:,4]\n",
        "    n_H2p = Y[:,5]\n",
        "    n_CO2p = Y[:,6]\n",
        "    n_MeOHp = Y[:,7]\n",
        "    n_COp = Y[:,8]\n",
        "    n_Wp = Y[:,9]\n",
        "    n_swp = Y[:,10]\n",
        "    \n",
        "    n_Tr = n_H2r+n_CO2r+n_MeOHr+n_COr+n_Wr\n",
        "    n_Tp = n_H2p+n_CO2p+n_MeOHp+n_COp+n_Wp+n_swp\n",
        "    \n",
        "    \n",
        "    \n",
        "    pH2r = (n_H2r/n_Tr)*i\n",
        "    pCO2r = (n_CO2r/n_Tr)*i\n",
        "    pMeOHr = (n_MeOHr/n_Tr)*i\n",
        "    pCOr = (n_COr/n_Tr)*i\n",
        "    pWr = (n_Wr/n_Tr)*i\n",
        "    \n",
        "    pH2p = (n_H2p/n_Tp)*i\n",
        "    pCO2p = (n_CO2p/n_Tp)*i\n",
        "    pMeOHp = (n_MeOHp/n_Tp)*i\n",
        "    pCOp = (n_COp/n_Tp)*i\n",
        "    pWp = (n_Wp/n_Tp)*i\n",
        "              \n",
        "    #Graphic for conversion\n",
        "        \n",
        "    X_CO2 = ((nCO2_0-(n_CO2r[-1]+n_CO2p[0]))/nCO2_0)*100      \n",
        "    S_MeOH = ((n_MeOHr[-1]+n_MeOHp[0])/(nCO2_0*(X_CO2/100)))*100\n",
        "    Y_MeOH = (X_CO2*S_MeOH)/100\n",
        "    \n",
        "    \n",
        "    FROMENT = \"FROMENT\"\n",
        "    COUNTER_CURRENT = \"COUNTER_CURRENT\"\n",
        "         \n",
        "    return X,X_CO2,S_MeOH,Y_MeOH,n_H2r,n_CO2r,n_MeOHr,n_COr,n_Wr,n_H2p,n_CO2p,n_MeOHp,n_COp,n_Wp,n_swp,pH2r,pCO2r,pMeOHr,pCOr,pWr,pH2p,pCO2p,pMeOHp,pCOp,pWp,COUNTER_CURRENT,FROMENT"
      ],
      "execution_count": null,
      "outputs": []
    },
    {
      "cell_type": "code",
      "metadata": {
        "id": "K9AemERCZLWi"
      },
      "source": [
        "i = 20\n",
        "j = 250\n",
        "k = 0.05\n",
        "VF = 250\n",
        "l = 1\n",
        "m = 3\n",
        "D_i = 0.0087 #m\n",
        "D_o =  0.01197 #m\n",
        "D_shell = 0.019#m\n",
        "FACT = 1\n",
        "rho_B= 1142 #kg cat/m3 lecho"
      ],
      "execution_count": null,
      "outputs": []
    },
    {
      "cell_type": "code",
      "metadata": {
        "id": "lYeo8Lp7ZAGK"
      },
      "source": [
        "X,X_CO2,S_MeOH,Y_MeOH,n_H2r,n_CO2r,n_MeOHr,n_COr,n_Wr,n_H2p,n_CO2p,n_MeOHp,n_COp,n_Wp,n_swp,pH2r,pCO2r,pMeOHr,pCOr,pWr,pH2p,pCO2p,pMeOHp,pCOp,pWp,COUNTER_CURRENT,FROMENT = F_CC(VF,D_i,D_o,D_shell,FACT,rho_B,i,j,k,l,m)"
      ],
      "execution_count": null,
      "outputs": []
    },
    {
      "cell_type": "code",
      "metadata": {
        "id": "7k88LO-6pZxA",
        "outputId": "efb259cc-dae6-4270-f797-963a2c2d0257",
        "colab": {
          "base_uri": "https://localhost:8080/",
          "height": 444
        }
      },
      "source": [
        "data = np.array([X,n_H2r,n_CO2r,n_MeOHr,n_COr,n_Wr,n_H2p,n_CO2p,n_MeOHp,n_COp,n_Wp,n_swp,pH2r,pCO2r,pMeOHr,pCOr,pWr,pH2p,pCO2p,pMeOHp,pCOp,pWp])\n",
        "data_transposed = data.transpose()\n",
        "df_PBMR_CC = pd.DataFrame(data_transposed,columns=[\"Reactor_Length\",'n_H2r','n_CO2r','n_MeOHr','n_COr','n_Wr','n_H2p','n_CO2p','n_MeOHp','n_COp','n_Wp','n_swp','pH2r','pCO2r','pMeOHr','pCOr','pWr','pH2p','pCO2p','pMeOHp','pCOp','pWp'])\n",
        "df_PBMR_CC"
      ],
      "execution_count": null,
      "outputs": [
        {
          "output_type": "execute_result",
          "data": {
            "text/html": [
              "<div>\n",
              "<style scoped>\n",
              "    .dataframe tbody tr th:only-of-type {\n",
              "        vertical-align: middle;\n",
              "    }\n",
              "\n",
              "    .dataframe tbody tr th {\n",
              "        vertical-align: top;\n",
              "    }\n",
              "\n",
              "    .dataframe thead th {\n",
              "        text-align: right;\n",
              "    }\n",
              "</style>\n",
              "<table border=\"1\" class=\"dataframe\">\n",
              "  <thead>\n",
              "    <tr style=\"text-align: right;\">\n",
              "      <th></th>\n",
              "      <th>Reactor_Length</th>\n",
              "      <th>n_H2r</th>\n",
              "      <th>n_CO2r</th>\n",
              "      <th>n_MeOHr</th>\n",
              "      <th>n_COr</th>\n",
              "      <th>n_Wr</th>\n",
              "      <th>n_H2p</th>\n",
              "      <th>n_CO2p</th>\n",
              "      <th>n_MeOHp</th>\n",
              "      <th>n_COp</th>\n",
              "      <th>n_Wp</th>\n",
              "      <th>n_swp</th>\n",
              "      <th>pH2r</th>\n",
              "      <th>pCO2r</th>\n",
              "      <th>pMeOHr</th>\n",
              "      <th>pCOr</th>\n",
              "      <th>pWr</th>\n",
              "      <th>pH2p</th>\n",
              "      <th>pCO2p</th>\n",
              "      <th>pMeOHp</th>\n",
              "      <th>pCOp</th>\n",
              "      <th>pWp</th>\n",
              "    </tr>\n",
              "  </thead>\n",
              "  <tbody>\n",
              "    <tr>\n",
              "      <th>0</th>\n",
              "      <td>0.00000</td>\n",
              "      <td>502.232143</td>\n",
              "      <td>167.410714</td>\n",
              "      <td>0.000000</td>\n",
              "      <td>0.000000</td>\n",
              "      <td>0.000000</td>\n",
              "      <td>1.118400e+00</td>\n",
              "      <td>3.323333e-01</td>\n",
              "      <td>2.318629e-01</td>\n",
              "      <td>6.069977e-02</td>\n",
              "      <td>9.961649e+00</td>\n",
              "      <td>669.642857</td>\n",
              "      <td>15.000000</td>\n",
              "      <td>5.000000</td>\n",
              "      <td>0.000000</td>\n",
              "      <td>0.000000</td>\n",
              "      <td>0.000000</td>\n",
              "      <td>3.282903e-02</td>\n",
              "      <td>9.755174e-03</td>\n",
              "      <td>6.806006e-03</td>\n",
              "      <td>1.781756e-03</td>\n",
              "      <td>2.924101e-01</td>\n",
              "    </tr>\n",
              "    <tr>\n",
              "      <th>1</th>\n",
              "      <td>0.00001</td>\n",
              "      <td>499.657325</td>\n",
              "      <td>166.240012</td>\n",
              "      <td>0.701977</td>\n",
              "      <td>0.468644</td>\n",
              "      <td>1.171410</td>\n",
              "      <td>1.118160e+00</td>\n",
              "      <td>3.322537e-01</td>\n",
              "      <td>2.318620e-01</td>\n",
              "      <td>6.069969e-02</td>\n",
              "      <td>9.962436e+00</td>\n",
              "      <td>669.642857</td>\n",
              "      <td>14.954441</td>\n",
              "      <td>4.975463</td>\n",
              "      <td>0.021010</td>\n",
              "      <td>0.014026</td>\n",
              "      <td>0.035060</td>\n",
              "      <td>3.282200e-02</td>\n",
              "      <td>9.752830e-03</td>\n",
              "      <td>6.805975e-03</td>\n",
              "      <td>1.781752e-03</td>\n",
              "      <td>2.924330e-01</td>\n",
              "    </tr>\n",
              "    <tr>\n",
              "      <th>2</th>\n",
              "      <td>0.00002</td>\n",
              "      <td>497.727407</td>\n",
              "      <td>165.317342</td>\n",
              "      <td>1.205517</td>\n",
              "      <td>0.887690</td>\n",
              "      <td>2.094699</td>\n",
              "      <td>1.117922e+00</td>\n",
              "      <td>3.321744e-01</td>\n",
              "      <td>2.318574e-01</td>\n",
              "      <td>6.069939e-02</td>\n",
              "      <td>9.963135e+00</td>\n",
              "      <td>669.642857</td>\n",
              "      <td>14.919156</td>\n",
              "      <td>4.955313</td>\n",
              "      <td>0.036135</td>\n",
              "      <td>0.026608</td>\n",
              "      <td>0.062788</td>\n",
              "      <td>3.281498e-02</td>\n",
              "      <td>9.750498e-03</td>\n",
              "      <td>6.805838e-03</td>\n",
              "      <td>1.781742e-03</td>\n",
              "      <td>2.924534e-01</td>\n",
              "    </tr>\n",
              "    <tr>\n",
              "      <th>3</th>\n",
              "      <td>0.00003</td>\n",
              "      <td>496.166831</td>\n",
              "      <td>164.540532</td>\n",
              "      <td>1.597313</td>\n",
              "      <td>1.272618</td>\n",
              "      <td>2.872057</td>\n",
              "      <td>1.117684e+00</td>\n",
              "      <td>3.320955e-01</td>\n",
              "      <td>2.318502e-01</td>\n",
              "      <td>6.069890e-02</td>\n",
              "      <td>9.963761e+00</td>\n",
              "      <td>669.642857</td>\n",
              "      <td>14.889859</td>\n",
              "      <td>4.937826</td>\n",
              "      <td>0.047935</td>\n",
              "      <td>0.038191</td>\n",
              "      <td>0.086190</td>\n",
              "      <td>3.280798e-02</td>\n",
              "      <td>9.748176e-03</td>\n",
              "      <td>6.805622e-03</td>\n",
              "      <td>1.781727e-03</td>\n",
              "      <td>2.924716e-01</td>\n",
              "    </tr>\n",
              "    <tr>\n",
              "      <th>4</th>\n",
              "      <td>0.00004</td>\n",
              "      <td>494.848437</td>\n",
              "      <td>163.861613</td>\n",
              "      <td>1.916962</td>\n",
              "      <td>1.631799</td>\n",
              "      <td>3.551460</td>\n",
              "      <td>1.117447e+00</td>\n",
              "      <td>3.320168e-01</td>\n",
              "      <td>2.318407e-01</td>\n",
              "      <td>6.069823e-02</td>\n",
              "      <td>9.964324e+00</td>\n",
              "      <td>669.642857</td>\n",
              "      <td>14.864548</td>\n",
              "      <td>4.922171</td>\n",
              "      <td>0.057583</td>\n",
              "      <td>0.049017</td>\n",
              "      <td>0.106681</td>\n",
              "      <td>3.280100e-02</td>\n",
              "      <td>9.745863e-03</td>\n",
              "      <td>6.805342e-03</td>\n",
              "      <td>1.781707e-03</td>\n",
              "      <td>2.924880e-01</td>\n",
              "    </tr>\n",
              "    <tr>\n",
              "      <th>...</th>\n",
              "      <td>...</td>\n",
              "      <td>...</td>\n",
              "      <td>...</td>\n",
              "      <td>...</td>\n",
              "      <td>...</td>\n",
              "      <td>...</td>\n",
              "      <td>...</td>\n",
              "      <td>...</td>\n",
              "      <td>...</td>\n",
              "      <td>...</td>\n",
              "      <td>...</td>\n",
              "      <td>...</td>\n",
              "      <td>...</td>\n",
              "      <td>...</td>\n",
              "      <td>...</td>\n",
              "      <td>...</td>\n",
              "      <td>...</td>\n",
              "      <td>...</td>\n",
              "      <td>...</td>\n",
              "      <td>...</td>\n",
              "      <td>...</td>\n",
              "      <td>...</td>\n",
              "    </tr>\n",
              "    <tr>\n",
              "      <th>4996</th>\n",
              "      <td>0.04996</td>\n",
              "      <td>448.887785</td>\n",
              "      <td>131.733878</td>\n",
              "      <td>8.209392</td>\n",
              "      <td>26.843075</td>\n",
              "      <td>25.392223</td>\n",
              "      <td>8.959915e-04</td>\n",
              "      <td>2.629417e-04</td>\n",
              "      <td>2.101836e-04</td>\n",
              "      <td>5.358319e-05</td>\n",
              "      <td>9.106061e-03</td>\n",
              "      <td>669.642857</td>\n",
              "      <td>14.004409</td>\n",
              "      <td>4.109836</td>\n",
              "      <td>0.256117</td>\n",
              "      <td>0.837451</td>\n",
              "      <td>0.792187</td>\n",
              "      <td>2.675986e-05</td>\n",
              "      <td>7.853068e-06</td>\n",
              "      <td>6.277385e-06</td>\n",
              "      <td>1.600326e-06</td>\n",
              "      <td>2.719634e-04</td>\n",
              "    </tr>\n",
              "    <tr>\n",
              "      <th>4997</th>\n",
              "      <td>0.04997</td>\n",
              "      <td>448.885767</td>\n",
              "      <td>131.732664</td>\n",
              "      <td>8.209662</td>\n",
              "      <td>26.843887</td>\n",
              "      <td>25.391095</td>\n",
              "      <td>6.719940e-04</td>\n",
              "      <td>1.972059e-04</td>\n",
              "      <td>1.576412e-04</td>\n",
              "      <td>4.018811e-05</td>\n",
              "      <td>6.829705e-03</td>\n",
              "      <td>669.642857</td>\n",
              "      <td>14.004418</td>\n",
              "      <td>4.109819</td>\n",
              "      <td>0.256126</td>\n",
              "      <td>0.837480</td>\n",
              "      <td>0.792156</td>\n",
              "      <td>2.006998e-05</td>\n",
              "      <td>5.889814e-06</td>\n",
              "      <td>4.708161e-06</td>\n",
              "      <td>1.200271e-06</td>\n",
              "      <td>2.039781e-04</td>\n",
              "    </tr>\n",
              "    <tr>\n",
              "      <th>4998</th>\n",
              "      <td>0.04998</td>\n",
              "      <td>448.883748</td>\n",
              "      <td>131.731450</td>\n",
              "      <td>8.209933</td>\n",
              "      <td>26.844699</td>\n",
              "      <td>25.389967</td>\n",
              "      <td>4.479962e-04</td>\n",
              "      <td>1.314704e-04</td>\n",
              "      <td>1.050965e-04</td>\n",
              "      <td>2.679255e-05</td>\n",
              "      <td>4.553242e-03</td>\n",
              "      <td>669.642857</td>\n",
              "      <td>14.004427</td>\n",
              "      <td>4.109802</td>\n",
              "      <td>0.256136</td>\n",
              "      <td>0.837510</td>\n",
              "      <td>0.792125</td>\n",
              "      <td>1.338005e-05</td>\n",
              "      <td>3.926551e-06</td>\n",
              "      <td>3.138856e-06</td>\n",
              "      <td>8.001980e-07</td>\n",
              "      <td>1.359891e-04</td>\n",
              "    </tr>\n",
              "    <tr>\n",
              "      <th>4999</th>\n",
              "      <td>0.04999</td>\n",
              "      <td>448.881730</td>\n",
              "      <td>131.730236</td>\n",
              "      <td>8.210203</td>\n",
              "      <td>26.845511</td>\n",
              "      <td>25.388839</td>\n",
              "      <td>2.239982e-04</td>\n",
              "      <td>6.573507e-05</td>\n",
              "      <td>5.254939e-05</td>\n",
              "      <td>1.339652e-05</td>\n",
              "      <td>2.276674e-03</td>\n",
              "      <td>669.642857</td>\n",
              "      <td>14.004435</td>\n",
              "      <td>4.109785</td>\n",
              "      <td>0.256146</td>\n",
              "      <td>0.837540</td>\n",
              "      <td>0.792094</td>\n",
              "      <td>6.690054e-06</td>\n",
              "      <td>1.963280e-06</td>\n",
              "      <td>1.569469e-06</td>\n",
              "      <td>4.001078e-07</td>\n",
              "      <td>6.799640e-05</td>\n",
              "    </tr>\n",
              "    <tr>\n",
              "      <th>5000</th>\n",
              "      <td>0.05000</td>\n",
              "      <td>448.879711</td>\n",
              "      <td>131.729022</td>\n",
              "      <td>8.210474</td>\n",
              "      <td>26.846323</td>\n",
              "      <td>25.387711</td>\n",
              "      <td>5.725385e-13</td>\n",
              "      <td>-6.286039e-13</td>\n",
              "      <td>4.226815e-12</td>\n",
              "      <td>1.230980e-12</td>\n",
              "      <td>-1.948244e-10</td>\n",
              "      <td>669.642857</td>\n",
              "      <td>14.004444</td>\n",
              "      <td>4.109769</td>\n",
              "      <td>0.256156</td>\n",
              "      <td>0.837569</td>\n",
              "      <td>0.792062</td>\n",
              "      <td>1.709982e-14</td>\n",
              "      <td>-1.877430e-14</td>\n",
              "      <td>1.262409e-13</td>\n",
              "      <td>3.676525e-14</td>\n",
              "      <td>-5.818755e-12</td>\n",
              "    </tr>\n",
              "  </tbody>\n",
              "</table>\n",
              "<p>5001 rows × 22 columns</p>\n",
              "</div>"
            ],
            "text/plain": [
              "      Reactor_Length       n_H2r  ...          pCOp           pWp\n",
              "0            0.00000  502.232143  ...  1.781756e-03  2.924101e-01\n",
              "1            0.00001  499.657325  ...  1.781752e-03  2.924330e-01\n",
              "2            0.00002  497.727407  ...  1.781742e-03  2.924534e-01\n",
              "3            0.00003  496.166831  ...  1.781727e-03  2.924716e-01\n",
              "4            0.00004  494.848437  ...  1.781707e-03  2.924880e-01\n",
              "...              ...         ...  ...           ...           ...\n",
              "4996         0.04996  448.887785  ...  1.600326e-06  2.719634e-04\n",
              "4997         0.04997  448.885767  ...  1.200271e-06  2.039781e-04\n",
              "4998         0.04998  448.883748  ...  8.001980e-07  1.359891e-04\n",
              "4999         0.04999  448.881730  ...  4.001078e-07  6.799640e-05\n",
              "5000         0.05000  448.879711  ...  3.676525e-14 -5.818755e-12\n",
              "\n",
              "[5001 rows x 22 columns]"
            ]
          },
          "metadata": {
            "tags": []
          },
          "execution_count": 6
        }
      ]
    },
    {
      "cell_type": "code",
      "metadata": {
        "id": "R_p5qOJHpcW6",
        "outputId": "1b29f310-d63e-470b-ec71-05d7bd3d574b",
        "colab": {
          "base_uri": "https://localhost:8080/",
          "height": 17
        }
      },
      "source": [
        "#To export your data frame to Excel\n",
        "df_PBMR_CC.to_excel('PBMR_CC_10_250.xlsx',index=False,header=False) \n",
        "from google.colab import files\n",
        "files.download('PBMR_CC_10_250.xlsx')"
      ],
      "execution_count": null,
      "outputs": [
        {
          "output_type": "display_data",
          "data": {
            "application/javascript": [
              "\n",
              "    async function download(id, filename, size) {\n",
              "      if (!google.colab.kernel.accessAllowed) {\n",
              "        return;\n",
              "      }\n",
              "      const div = document.createElement('div');\n",
              "      const label = document.createElement('label');\n",
              "      label.textContent = `Downloading \"${filename}\": `;\n",
              "      div.appendChild(label);\n",
              "      const progress = document.createElement('progress');\n",
              "      progress.max = size;\n",
              "      div.appendChild(progress);\n",
              "      document.body.appendChild(div);\n",
              "\n",
              "      const buffers = [];\n",
              "      let downloaded = 0;\n",
              "\n",
              "      const channel = await google.colab.kernel.comms.open(id);\n",
              "      // Send a message to notify the kernel that we're ready.\n",
              "      channel.send({})\n",
              "\n",
              "      for await (const message of channel.messages) {\n",
              "        // Send a message to notify the kernel that we're ready.\n",
              "        channel.send({})\n",
              "        if (message.buffers) {\n",
              "          for (const buffer of message.buffers) {\n",
              "            buffers.push(buffer);\n",
              "            downloaded += buffer.byteLength;\n",
              "            progress.value = downloaded;\n",
              "          }\n",
              "        }\n",
              "      }\n",
              "      const blob = new Blob(buffers, {type: 'application/binary'});\n",
              "      const a = document.createElement('a');\n",
              "      a.href = window.URL.createObjectURL(blob);\n",
              "      a.download = filename;\n",
              "      div.appendChild(a);\n",
              "      a.click();\n",
              "      div.remove();\n",
              "    }\n",
              "  "
            ],
            "text/plain": [
              "<IPython.core.display.Javascript object>"
            ]
          },
          "metadata": {
            "tags": []
          }
        },
        {
          "output_type": "display_data",
          "data": {
            "application/javascript": [
              "download(\"download_1835421e-102d-4674-ae0a-f05c41c036e2\", \"PBMR_CC_10_250.xlsx\", 1314922)"
            ],
            "text/plain": [
              "<IPython.core.display.Javascript object>"
            ]
          },
          "metadata": {
            "tags": []
          }
        }
      ]
    },
    {
      "cell_type": "code",
      "metadata": {
        "id": "bNrtCPd-Z_LS",
        "outputId": "37863b25-a183-4454-b7b1-960b69ea8084",
        "colab": {
          "base_uri": "https://localhost:8080/"
        }
      },
      "source": [
        "print(X_CO2)\n",
        "print(S_MeOH)\n",
        "print(Y_MeOH)"
      ],
      "execution_count": null,
      "outputs": [
        {
          "output_type": "stream",
          "text": [
            "21.11535055992265\n",
            "23.882572916176457\n",
            "5.0428889939798\n"
          ],
          "name": "stdout"
        }
      ]
    },
    {
      "cell_type": "code",
      "metadata": {
        "id": "mAZKkk1OdDT7",
        "outputId": "c6dc361c-33dd-496d-895d-b65855f2ce93",
        "colab": {
          "base_uri": "https://localhost:8080/",
          "height": 265
        }
      },
      "source": [
        "plt.plot(X,pH2r, color = '#1f77b4');\n",
        "plt.plot(X,pH2p, color = '#ff7f0e');"
      ],
      "execution_count": null,
      "outputs": [
        {
          "output_type": "display_data",
          "data": {
            "image/png": "[encoded data removed]",
            "text/plain": [
              "<Figure size 432x288 with 1 Axes>"
            ]
          },
          "metadata": {
            "tags": [],
            "needs_background": "light"
          }
        }
      ]
    },
    {
      "cell_type": "code",
      "metadata": {
        "id": "3WcYRgWGdHUc",
        "outputId": "18112272-69ba-4a10-bb5a-530e3050e7d4",
        "colab": {
          "base_uri": "https://localhost:8080/",
          "height": 265
        }
      },
      "source": [
        "plt.plot(X,n_H2r, color = '#1f77b4');\n",
        "plt.plot(X,n_H2p, color = '#ff7f0e');"
      ],
      "execution_count": null,
      "outputs": [
        {
          "output_type": "display_data",
          "data": {
            "image/png": "[encoded data removed]",
            "text/plain": [
              "<Figure size 432x288 with 1 Axes>"
            ]
          },
          "metadata": {
            "tags": [],
            "needs_background": "light"
          }
        }
      ]
    },
    {
      "cell_type": "code",
      "metadata": {
        "id": "vn4fsvMVdR4_",
        "outputId": "0e09ad57-a06f-494b-a478-a3ef08c8fee1",
        "colab": {
          "base_uri": "https://localhost:8080/",
          "height": 265
        }
      },
      "source": [
        "plt.plot(X,pCO2r);\n",
        "plt.plot(X,pCO2p);"
      ],
      "execution_count": null,
      "outputs": [
        {
          "output_type": "display_data",
          "data": {
            "image/png": "[encoded data removed]",
            "text/plain": [
              "<Figure size 432x288 with 1 Axes>"
            ]
          },
          "metadata": {
            "tags": [],
            "needs_background": "light"
          }
        }
      ]
    },
    {
      "cell_type": "code",
      "metadata": {
        "id": "q57MszQPdVKH",
        "outputId": "a311172f-e033-4719-b327-f989488a1f27",
        "colab": {
          "base_uri": "https://localhost:8080/",
          "height": 268
        }
      },
      "source": [
        "plt.plot(X,n_CO2r, color = '#1f77b4');\n",
        "plt.plot(X,n_CO2p, color = '#ff7f0e');"
      ],
      "execution_count": null,
      "outputs": [
        {
          "output_type": "display_data",
          "data": {
            "image/png": "[encoded data removed]",
            "text/plain": [
              "<Figure size 432x288 with 1 Axes>"
            ]
          },
          "metadata": {
            "tags": [],
            "needs_background": "light"
          }
        }
      ]
    },
    {
      "cell_type": "code",
      "metadata": {
        "id": "QxEMEOiqdYSW",
        "outputId": "fb1e62d8-2307-4f54-dcb5-f458b673a4bb",
        "colab": {
          "base_uri": "https://localhost:8080/",
          "height": 265
        }
      },
      "source": [
        "plt.plot(X,pCOr);\n",
        "plt.plot(X,pCOp);"
      ],
      "execution_count": null,
      "outputs": [
        {
          "output_type": "display_data",
          "data": {
            "image/png": "[encoded data removed]",
            "text/plain": [
              "<Figure size 432x288 with 1 Axes>"
            ]
          },
          "metadata": {
            "tags": [],
            "needs_background": "light"
          }
        }
      ]
    },
    {
      "cell_type": "code",
      "metadata": {
        "id": "9JDlUN27dbdO",
        "outputId": "f04a3da4-d3c1-48a8-8c50-923056e353e2",
        "colab": {
          "base_uri": "https://localhost:8080/",
          "height": 265
        }
      },
      "source": [
        "plt.plot(X,n_COr);\n",
        "plt.plot(X,n_COp);"
      ],
      "execution_count": null,
      "outputs": [
        {
          "output_type": "display_data",
          "data": {
            "image/png": "[encoded data removed]",
            "text/plain": [
              "<Figure size 432x288 with 1 Axes>"
            ]
          },
          "metadata": {
            "tags": [],
            "needs_background": "light"
          }
        }
      ]
    },
    {
      "cell_type": "code",
      "metadata": {
        "id": "ozRhi8ZkdiNe",
        "outputId": "1c7e7d40-1705-4b64-d95e-ecac6ce7b953",
        "colab": {
          "base_uri": "https://localhost:8080/",
          "height": 265
        }
      },
      "source": [
        "plt.plot(X,pWr);\n",
        "plt.plot(X,pWp);"
      ],
      "execution_count": null,
      "outputs": [
        {
          "output_type": "display_data",
          "data": {
            "image/png": "[encoded data removed]",
            "text/plain": [
              "<Figure size 432x288 with 1 Axes>"
            ]
          },
          "metadata": {
            "tags": [],
            "needs_background": "light"
          }
        }
      ]
    },
    {
      "cell_type": "code",
      "metadata": {
        "id": "IVnZttq2dm10",
        "outputId": "54f2eba9-d8a0-4bfc-d33d-40099f8c4e19",
        "colab": {
          "base_uri": "https://localhost:8080/",
          "height": 265
        }
      },
      "source": [
        "plt.plot(X,n_Wr);\n",
        "plt.plot(X,n_Wp);"
      ],
      "execution_count": null,
      "outputs": [
        {
          "output_type": "display_data",
          "data": {
            "image/png": "[encoded data removed]",
            "text/plain": [
              "<Figure size 432x288 with 1 Axes>"
            ]
          },
          "metadata": {
            "tags": [],
            "needs_background": "light"
          }
        }
      ]
    },
    {
      "cell_type": "code",
      "metadata": {
        "id": "X3Ej94CqduHs",
        "outputId": "7f140f20-1ff4-4474-b363-1c9602d8fc42",
        "colab": {
          "base_uri": "https://localhost:8080/",
          "height": 265
        }
      },
      "source": [
        "plt.plot(X,pMeOHr);\n",
        "plt.plot(X,pMeOHp);"
      ],
      "execution_count": null,
      "outputs": [
        {
          "output_type": "display_data",
          "data": {
            "image/png": "[encoded data removed]",
            "text/plain": [
              "<Figure size 432x288 with 1 Axes>"
            ]
          },
          "metadata": {
            "tags": [],
            "needs_background": "light"
          }
        }
      ]
    },
    {
      "cell_type": "code",
      "metadata": {
        "id": "FEdbpFsqdzuM",
        "outputId": "aa5cdad3-3fd8-4b8b-efa4-424daed76a2a",
        "colab": {
          "base_uri": "https://localhost:8080/",
          "height": 265
        }
      },
      "source": [
        "plt.plot(X,n_MeOHr);\n",
        "plt.plot(X,n_MeOHp);"
      ],
      "execution_count": null,
      "outputs": [
        {
          "output_type": "display_data",
          "data": {
            "image/png": "[encoded data removed]",
            "text/plain": [
              "<Figure size 432x288 with 1 Axes>"
            ]
          },
          "metadata": {
            "tags": [],
            "needs_background": "light"
          }
        }
      ]
    },
    {
      "cell_type": "code",
      "metadata": {
        "id": "-DuoaOyJd3Sr",
        "outputId": "a4b472ee-d10c-4e45-cabe-b9d9e2da59df",
        "colab": {
          "base_uri": "https://localhost:8080/",
          "height": 340
        }
      },
      "source": [
        "nTr = n_H2r+n_CO2r+n_MeOHr+n_COr+n_Wr\n",
        "nTp = n_H2p+n_CO2p+n_MeOHp+n_COp+n_Wp+n_swp\n",
        "plt.plot(X,nTr, color='blue');\n",
        "plt.plot(X,nTp, color='red');\n",
        "\n",
        "print(nTp[0])\n",
        "print(nTr[0])\n",
        "print(nTp[-1])\n",
        "print(nTr[-1])"
      ],
      "execution_count": null,
      "outputs": [
        {
          "output_type": "stream",
          "text": [
            "681.3478012346123\n",
            "669.6428571428571\n",
            "669.6428571426677\n",
            "641.0532400800059\n"
          ],
          "name": "stdout"
        },
        {
          "output_type": "display_data",
          "data": {
            "image/png": "[encoded data removed]",
            "text/plain": [
              "<Figure size 432x288 with 1 Axes>"
            ]
          },
          "metadata": {
            "tags": [],
            "needs_background": "light"
          }
        }
      ]
    },
    {
      "cell_type": "code",
      "metadata": {
        "id": "BdlDygVUd8eJ",
        "outputId": "9a99d237-d3d8-4bce-931c-2a4115834965",
        "colab": {
          "base_uri": "https://localhost:8080/",
          "height": 265
        }
      },
      "source": [
        "ppr = pCO2r+pH2r+pMeOHr+pCOr+pWr\n",
        "plt.plot(X,ppr, color = 'black');\n",
        "plt.plot(X,pH2r, color = 'red');\n",
        "plt.plot(X,pCO2r, color = 'blue');\n",
        "plt.plot(X,pCOr, color = 'yellow');\n",
        "plt.plot(X,pMeOHr, color = 'green');\n",
        "plt.plot(X,pWr, color = 'gray');"
      ],
      "execution_count": null,
      "outputs": [
        {
          "output_type": "display_data",
          "data": {
            "image/png": "[encoded data removed]",
            "text/plain": [
              "<Figure size 432x288 with 1 Axes>"
            ]
          },
          "metadata": {
            "tags": [],
            "needs_background": "light"
          }
        }
      ]
    },
    {
      "cell_type": "code",
      "metadata": {
        "id": "SuAhrRLpeBPt",
        "outputId": "82ebc9ea-8a56-4151-ac35-c4db891f3655",
        "colab": {
          "base_uri": "https://localhost:8080/",
          "height": 265
        }
      },
      "source": [
        "plt.plot(X,pCOr, color = 'yellow');\n",
        "plt.plot(X,pMeOHr, color = 'green');\n",
        "plt.plot(X,pWr, color = 'gray');"
      ],
      "execution_count": null,
      "outputs": [
        {
          "output_type": "display_data",
          "data": {
            "image/png": "[encoded data removed]",
            "text/plain": [
              "<Figure size 432x288 with 1 Axes>"
            ]
          },
          "metadata": {
            "tags": [],
            "needs_background": "light"
          }
        }
      ]
    },
    {
      "cell_type": "code",
      "metadata": {
        "id": "G1mzPp6TeDdd",
        "outputId": "bed429c1-b596-4722-a481-0c7690286e0f",
        "colab": {
          "base_uri": "https://localhost:8080/",
          "height": 265
        }
      },
      "source": [
        "pswep = (n_swp/nTp)*i\n",
        "ppp = pCO2p+pH2p+pMeOHp+pCOp+pWp+pswep\n",
        "plt.plot(X,ppp, color = 'black');\n",
        "plt.plot(X,pH2p, color = 'red');\n",
        "plt.plot(X,pCO2p, color = 'blue');\n",
        "plt.plot(X,pCOp, color = 'yellow');\n",
        "plt.plot(X,pMeOHp, color = 'green');\n",
        "plt.plot(X,pWp, color = 'orange');\n",
        "plt.plot(X,pswep, color = 'gray');"
      ],
      "execution_count": null,
      "outputs": [
        {
          "output_type": "display_data",
          "data": {
            "image/png": "[encoded data removed]",
            "text/plain": [
              "<Figure size 432x288 with 1 Axes>"
            ]
          },
          "metadata": {
            "tags": [],
            "needs_background": "light"
          }
        }
      ]
    },
    {
      "cell_type": "code",
      "metadata": {
        "id": "nPvxVwFoeH__",
        "outputId": "5bb3303f-fbfe-406f-a050-ee283f3b14f2",
        "colab": {
          "base_uri": "https://localhost:8080/",
          "height": 265
        }
      },
      "source": [
        "plt.plot(X,pCO2p, color = 'blue');\n",
        "plt.plot(X,pCOp, color = 'yellow');\n",
        "plt.plot(X,pMeOHp, color = 'green');\n",
        "plt.plot(X,pWp, color = 'orange');"
      ],
      "execution_count": null,
      "outputs": [
        {
          "output_type": "display_data",
          "data": {
            "image/png": "[encoded data removed]",
            "text/plain": [
              "<Figure size 432x288 with 1 Axes>"
            ]
          },
          "metadata": {
            "tags": [],
            "needs_background": "light"
          }
        }
      ]
    }
  ]
}